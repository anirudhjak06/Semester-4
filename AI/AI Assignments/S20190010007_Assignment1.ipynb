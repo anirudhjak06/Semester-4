{
  "nbformat": 4,
  "nbformat_minor": 0,
  "metadata": {
    "colab": {
      "name": "S20190010007_Assignment1.ipynb",
      "provenance": [],
      "collapsed_sections": []
    },
    "kernelspec": {
      "display_name": "Python 3",
      "language": "python",
      "name": "python3"
    },
    "language_info": {
      "codemirror_mode": {
        "name": "ipython",
        "version": 3
      },
      "file_extension": ".py",
      "mimetype": "text/x-python",
      "name": "python",
      "nbconvert_exporter": "python",
      "pygments_lexer": "ipython3",
      "version": "3.7.4"
    }
  },
  "cells": [
    {
      "cell_type": "markdown",
      "metadata": {
        "id": "Fh8Bka5dHw7D"
      },
      "source": [
        "# **AI ASSIGNMNET 1**\n",
        "# **Anirudh Jakhotia**\n",
        "# **Roll No : S20190010007**"
      ]
    },
    {
      "cell_type": "markdown",
      "metadata": {
        "id": "phfxi8JJHw7F"
      },
      "source": [
        "## Imports"
      ]
    },
    {
      "cell_type": "code",
      "metadata": {
        "id": "glEu_c4ZT30r"
      },
      "source": [
        "import numpy as np\n",
        "import random\n",
        "import parser\n",
        "from math import *"
      ],
      "execution_count": 1,
      "outputs": []
    },
    {
      "cell_type": "markdown",
      "metadata": {
        "id": "sNUmkBXvHw7H"
      },
      "source": [
        "# **Problem 1**\n",
        "# **Solving Sudoku using Genetic Algorithm**"
      ]
    },
    {
      "cell_type": "markdown",
      "metadata": {
        "id": "7Fx59BHuHw7I"
      },
      "source": [
        "#### Passing partially completed grid"
      ]
    },
    {
      "cell_type": "code",
      "metadata": {
        "id": "GD_bUq_ddtNF"
      },
      "source": [
        "startingState = [\"x8xxxxx9x\", \"xx75x28xx\", \"6xx8x7xx5\", \"37xx8xx51\", \"2xxxxxxx8\", \"95xx4xx32\", \"8xx1x4xx9\", \"xx19x36xx\", \"x4xxxxx2x\"]"
      ],
      "execution_count": 2,
      "outputs": []
    },
    {
      "cell_type": "markdown",
      "metadata": {
        "id": "6Hb8ch2UHw7I"
      },
      "source": [
        "## Checking Row,Column and Sub grid"
      ]
    },
    {
      "cell_type": "code",
      "metadata": {
        "id": "Zof3LTwgmz0P"
      },
      "source": [
        "def Function_for_SuitNo(temp_State,no_of_rows,no_of_columns):\n",
        "  numerical_set2=set()\n",
        "  numerical_set1={1,2,3,4,5,6,7,8,9}\n",
        "\n",
        "  for n2 in range(0,len(temp_State[no_of_rows])):\n",
        "    if n2==no_of_columns:\n",
        "      continue\n",
        "    if temp_State[no_of_rows][n2]!='x':\n",
        "      #Row Checking\n",
        "      numerical_set2.add(int(temp_State[no_of_rows][n2]))  \n",
        "\n",
        "  for n1 in range(0,len(temp_State)):\n",
        "    if n1==no_of_rows:\n",
        "      continue\n",
        "    if temp_State[n1][no_of_columns]!='x':\n",
        "      #Column Checking \n",
        "      numerical_set2.add(int(temp_State[n1][no_of_columns]))  \n",
        "\n",
        "  for n1 in range((no_of_rows//3)*3,(no_of_rows//3)*3+3):\n",
        "    for n2 in range((no_of_columns//3)*3,(no_of_columns//3)*3+3):\n",
        "      if n1==no_of_rows and n2==no_of_columns:\n",
        "        continue\n",
        "      if temp_State[n1][n2]!='x':\n",
        "        #Sub Grid Checking \n",
        "       numerical_set2.add(int(temp_State[n1][n2]))   \n",
        "\n",
        "  numerical_set3 = numerical_set1.difference(numerical_set2)  \n",
        "  return numerical_set3      \n"
      ],
      "execution_count": 3,
      "outputs": []
    },
    {
      "cell_type": "markdown",
      "metadata": {
        "id": "SDBU6bxwHw7J"
      },
      "source": [
        "## Individual Rankings"
      ]
    },
    {
      "cell_type": "code",
      "metadata": {
        "id": "G5FdAVQXnekn"
      },
      "source": [
        "def Function_for_rankingIndividuals(individuals):\n",
        "\n",
        "  def fitness_function(state):\n",
        "    Estimate=0\n",
        "    for p in range(0,9):\n",
        "      for q in range(0,9):\n",
        "        set_1 = Function_for_SuitNo(state,p,q)\n",
        "        if int(state[p][q]) in set_1:\n",
        "          Estimate+=1\n",
        "    return Estimate\n",
        "\n",
        "  return sorted([(i,fitness_function(i)) for i in individuals],key = lambda x:x[1],reverse=True)  \n",
        "\n",
        "def Selection_function(fitness_values):\n",
        "  outcome=0\n",
        "  for i in range(0,len(fitness_values)):\n",
        "    outcome+=fitness_values[i][1]\n",
        "  selected_list=[]\n",
        "  for i in range(0,len(fitness_values)):\n",
        "    selected_list.append(int((fitness_values[i][1]/outcome)*100))\n",
        "\n",
        "  return selected_list    \n"
      ],
      "execution_count": 4,
      "outputs": []
    },
    {
      "cell_type": "markdown",
      "metadata": {
        "id": "hDkiN6OpHw7K"
      },
      "source": [
        "## Crossover function"
      ]
    },
    {
      "cell_type": "code",
      "metadata": {
        "id": "PmYC0FcSpTB1"
      },
      "source": [
        "def Crossover_function(pos1,pos2):\n",
        "  token = random.randint(1,7)\n",
        "  pos3 = pos1[:token] + pos2[token:]\n",
        "  pos4 = pos2[:token] + pos1[token:]\n",
        "  return pos3,pos4\n"
      ],
      "execution_count": 5,
      "outputs": []
    },
    {
      "cell_type": "markdown",
      "metadata": {
        "id": "p9S8YLxwHw7L"
      },
      "source": [
        "## Mutation "
      ]
    },
    {
      "cell_type": "code",
      "metadata": {
        "id": "J1OtGBe216v1"
      },
      "source": [
        "def Function_for_mutation(temp_state,non_replaced):\n",
        "  while True:\n",
        "    token1 = random.randint(0,8)\n",
        "    token2 = random.randint(0,8)\n",
        "    if (token1,token2) in non_replaced:\n",
        "      continue\n",
        "    set_1 = Function_for_SuitNo(temp_state,token1,token2)\n",
        "    if len(set_1)==0:  \n",
        "      set_1={1,2,3,4,5,6,7,8,9}\n",
        "    break\n",
        "  tokens = random.randint(0,len(set_1)-1)\n",
        "  temp_state[token1] = temp_state[token1][0:token2]+str(list(set_1)[tokens])+temp_state[token1][token2+1:]\n"
      ],
      "execution_count": 6,
      "outputs": []
    },
    {
      "cell_type": "markdown",
      "metadata": {
        "id": "pzAa-WfAHw7M"
      },
      "source": [
        "## RandomStartPopulation function"
      ]
    },
    {
      "cell_type": "code",
      "metadata": {
        "id": "Qnu_e4Gy2bqm"
      },
      "source": [
        "def Function_for_randomStartPopulation(Starting_state,n):\n",
        "  no_of_people=[]\n",
        "  for p in range(0,n):\n",
        "    temp_state = Starting_state.copy()\n",
        "    for q in range(0,9):\n",
        "      for r in range(0,9):\n",
        "        if Starting_state[q][r]=='x':\n",
        "          set_1 = Function_for_SuitNo(temp_state,q,r)\n",
        "          if len(set_1)==1:\n",
        "            tokens = 0\n",
        "          else:\n",
        "            if len(set_1)==0:\n",
        "              set_1={1,2,3,4,5,6,7,8,9}  \n",
        "            tokens = random.randint(0,len(set_1)-1)\n",
        "          temp_state[q] = temp_state[q][0:r]+str(list(set_1)[tokens])+temp_state[q][r+1:]      \n",
        "    no_of_people.append(temp_state)\n",
        "\n",
        "  return no_of_people  \n",
        "\n",
        "def Function_for_nonReplacedStates(Starting_state):\n",
        "  record1=[]\n",
        "  for q in range(0,9):\n",
        "    for r in range(0,9):\n",
        "      if Starting_state[q][r]!='x':\n",
        "        record1.append((q,r))\n",
        "  return record1        \n"
      ],
      "execution_count": 7,
      "outputs": []
    },
    {
      "cell_type": "markdown",
      "metadata": {
        "id": "8zbyV34iHw7M"
      },
      "source": [
        "## RandomSelect function"
      ]
    },
    {
      "cell_type": "code",
      "metadata": {
        "id": "YUcdJCwa2jkk",
        "colab": {
          "base_uri": "https://localhost:8080/"
        },
        "outputId": "dbef4296-0b91-49b0-9a8c-b6330d40cb90"
      },
      "source": [
        "def function_for_randomSelect(select):\n",
        "  token = random.randint(0,100)\n",
        "  i = 0\n",
        "  for i in range(0,len(select)):\n",
        "    token-=select[i]\n",
        "    if token<0:\n",
        "      break\n",
        "  return i    \n",
        "\n",
        "number=100\n",
        "non_replaced_states = Function_for_nonReplacedStates(startingState)\n",
        "population = Function_for_randomStartPopulation(startingState,number)\n",
        "new_population = population.copy()\n",
        "\n",
        "x=1000\n",
        "total_population = []\n",
        "pop=0\n",
        "\n",
        "for p in range(0,x):\n",
        "  successor_population = Function_for_rankingIndividuals(new_population)\n",
        "  choices = Selection_function(successor_population)\n",
        "  upcoming_generation=[]\n",
        "\n",
        "  if successor_population[0][1]==81:\n",
        "    pop=1\n",
        "    print(successor_population[0][0],successor_population[0][1])\n",
        "    break\n",
        "\n",
        "  for p in range(0,number//2):\n",
        "    token1 = function_for_randomSelect(choices)\n",
        "    token2 = function_for_randomSelect(choices)\n",
        "    k1,k2 = Crossover_function(successor_population[token1][0],successor_population[token2][0])\n",
        "    upcoming_generation.append(k1)\n",
        "    upcoming_generation.append(k2)\n",
        "\n",
        "  for n1 in upcoming_generation:\n",
        "    Function_for_mutation(n1,non_replaced_states)\n",
        "  \n",
        "  new_population = upcoming_generation\n",
        "  total_population = Function_for_rankingIndividuals(new_population)\n",
        "\n",
        "print(\"The best 5 individual-states from the final population are : \")\n",
        "print(\" \")\n",
        "if pop==0:\n",
        "  for p in range(0,5):\n",
        "    print(total_population[p][0],\" fitness value: \",total_population[p][1])\n"
      ],
      "execution_count": 8,
      "outputs": [
        {
          "output_type": "stream",
          "text": [
            "The best 5 individual-states from the final population are : \n",
            " \n",
            "['286597393', '417532826', '632897245', '376289451', '244375968', '958641732', '823164579', '771923684', '549758123']  fitness value:  53\n",
            "['286594393', '577512849', '692827515', '376289451', '214375968', '958641732', '823164579', '771923684', '549758123']  fitness value:  50\n",
            "['286597393', '477532819', '632897245', '376289451', '214375968', '958641732', '823164579', '771953684', '546238123']  fitness value:  50\n",
            "['286597993', '577512849', '692827515', '376289451', '214375968', '958641732', '823164579', '771923684', '549758123']  fitness value:  49\n",
            "['286597793', '577512849', '692827515', '376289451', '214375968', '958641732', '823164579', '771923684', '549758123']  fitness value:  49\n"
          ],
          "name": "stdout"
        }
      ]
    },
    {
      "cell_type": "markdown",
      "metadata": {
        "id": "9OMqOm6yHw7O"
      },
      "source": [
        "## Printing Best 5 Individual states as a Sudoku grid"
      ]
    },
    {
      "cell_type": "code",
      "metadata": {
        "colab": {
          "base_uri": "https://localhost:8080/"
        },
        "id": "Vv6eLBa5Hw7O",
        "outputId": "4f2f4de2-a3ca-404f-fdaf-a10a801395c0"
      },
      "source": [
        "print(\"The best 5 individual-states from the final population as a Sudoku Grid : \")\n",
        "print(\" \")\n",
        "if pop==0:\n",
        "  for p in range(0,5):\n",
        "    for q in range(len(total_population[0][0])):\n",
        "        [print(total_population[p][0][q][k],end=' ') for k in range(9)]\n",
        "        print()\n",
        "    print(\"Fitness value: {}\\n\".format(total_population[p][1]))\n"
      ],
      "execution_count": 9,
      "outputs": [
        {
          "output_type": "stream",
          "text": [
            "The best 5 individual-states from the final population as a Sudoku Grid : \n",
            " \n",
            "2 8 6 5 9 7 3 9 3 \n",
            "4 1 7 5 3 2 8 2 6 \n",
            "6 3 2 8 9 7 2 4 5 \n",
            "3 7 6 2 8 9 4 5 1 \n",
            "2 4 4 3 7 5 9 6 8 \n",
            "9 5 8 6 4 1 7 3 2 \n",
            "8 2 3 1 6 4 5 7 9 \n",
            "7 7 1 9 2 3 6 8 4 \n",
            "5 4 9 7 5 8 1 2 3 \n",
            "Fitness value: 53\n",
            "\n",
            "2 8 6 5 9 4 3 9 3 \n",
            "5 7 7 5 1 2 8 4 9 \n",
            "6 9 2 8 2 7 5 1 5 \n",
            "3 7 6 2 8 9 4 5 1 \n",
            "2 1 4 3 7 5 9 6 8 \n",
            "9 5 8 6 4 1 7 3 2 \n",
            "8 2 3 1 6 4 5 7 9 \n",
            "7 7 1 9 2 3 6 8 4 \n",
            "5 4 9 7 5 8 1 2 3 \n",
            "Fitness value: 50\n",
            "\n",
            "2 8 6 5 9 7 3 9 3 \n",
            "4 7 7 5 3 2 8 1 9 \n",
            "6 3 2 8 9 7 2 4 5 \n",
            "3 7 6 2 8 9 4 5 1 \n",
            "2 1 4 3 7 5 9 6 8 \n",
            "9 5 8 6 4 1 7 3 2 \n",
            "8 2 3 1 6 4 5 7 9 \n",
            "7 7 1 9 5 3 6 8 4 \n",
            "5 4 6 2 3 8 1 2 3 \n",
            "Fitness value: 50\n",
            "\n",
            "2 8 6 5 9 7 9 9 3 \n",
            "5 7 7 5 1 2 8 4 9 \n",
            "6 9 2 8 2 7 5 1 5 \n",
            "3 7 6 2 8 9 4 5 1 \n",
            "2 1 4 3 7 5 9 6 8 \n",
            "9 5 8 6 4 1 7 3 2 \n",
            "8 2 3 1 6 4 5 7 9 \n",
            "7 7 1 9 2 3 6 8 4 \n",
            "5 4 9 7 5 8 1 2 3 \n",
            "Fitness value: 49\n",
            "\n",
            "2 8 6 5 9 7 7 9 3 \n",
            "5 7 7 5 1 2 8 4 9 \n",
            "6 9 2 8 2 7 5 1 5 \n",
            "3 7 6 2 8 9 4 5 1 \n",
            "2 1 4 3 7 5 9 6 8 \n",
            "9 5 8 6 4 1 7 3 2 \n",
            "8 2 3 1 6 4 5 7 9 \n",
            "7 7 1 9 2 3 6 8 4 \n",
            "5 4 9 7 5 8 1 2 3 \n",
            "Fitness value: 49\n",
            "\n"
          ],
          "name": "stdout"
        }
      ]
    },
    {
      "cell_type": "markdown",
      "metadata": {
        "id": "Z6iVclTnHw7O"
      },
      "source": [
        "# **Problem 2**\n",
        "# **Solving function using Genetic Algorithm**"
      ]
    },
    {
      "cell_type": "code",
      "metadata": {
        "id": "j2e9uNswglBR",
        "colab": {
          "base_uri": "https://localhost:8080/"
        },
        "outputId": "3f04e7af-775b-41db-9dbf-ed6a55926ad6"
      },
      "source": [
        "fun = input(\"Enter the function :\")\n",
        "fun = fun.replace(\"^\",\"**\")\n",
        "print(\"Enter a range of values seperated by space : \",end=\"\")\n",
        "p,q = input().split()\n",
        "p = int(p)\n",
        "q = int(q)\n",
        "nums = len(bin(q).replace(\"0b\",\"\"))\n",
        "numerical_set2 = set(range(p,q+1))  # all equations involving 2 varaiables x and y\n",
        "\n",
        "#Function = \"x**2-2*y+3\"\n",
        "#numerical_set2={0,1,2,3,4,5,6,7}\n"
      ],
      "execution_count": 10,
      "outputs": [
        {
          "output_type": "stream",
          "text": [
            "Enter the function :x**2-2*y+3\n",
            "Enter a range of values seperated by space : 0 7\n"
          ],
          "name": "stdout"
        }
      ]
    },
    {
      "cell_type": "markdown",
      "metadata": {
        "id": "FsaIX2xBHw7P"
      },
      "source": [
        "## Conversion of Integer to Binary"
      ]
    },
    {
      "cell_type": "code",
      "metadata": {
        "id": "maiNA4F0vYxN"
      },
      "source": [
        "def function_for_intToBin(a,number):\n",
        "  outcome = bin(a).replace(\"0b\",\"\")\n",
        "  if len(outcome)==3:\n",
        "    return outcome\n",
        "  else:\n",
        "    q = number-len(outcome)\n",
        "    utility=''\n",
        "    for i in range(0,q):\n",
        "      utility+='0'\n",
        "    outcome = utility+outcome\n",
        "    return outcome     \n"
      ],
      "execution_count": 11,
      "outputs": []
    },
    {
      "cell_type": "markdown",
      "metadata": {
        "id": "XfbobDq_Hw7Q"
      },
      "source": [
        "## Crossover, Mutation and Ranking functions"
      ]
    },
    {
      "cell_type": "code",
      "metadata": {
        "id": "rhfsA-UJQf3o"
      },
      "source": [
        "def Function(function,x,y):\n",
        "  code = parser.expr(function).compile()\n",
        "  return eval(code)\n",
        "\n",
        "def Function_for_crossover(temp_state1,temp_state2,m):\n",
        "  tokens = random.randint(0,2*m-1)\n",
        "  temp_state3 = temp_state1[tokens:] + temp_state2[:tokens]\n",
        "  temp_state4 = temp_state1[:tokens] + temp_state2[tokens:]\n",
        "  return temp_state3,temp_state4\n",
        "\n",
        "def Function_for_mutation(temp_state,m):\n",
        "  tokens = random.randint(0,(2*m)-1)\n",
        "  if temp_state[tokens]=='0':\n",
        "    A='1'\n",
        "  else:  \n",
        "    A='0'\n",
        "  temp_state = temp_state[0:tokens]+A+temp_state[tokens+1:]\n",
        "\n",
        "def rankingPopulation_function(individuals,function,kk):\n",
        "  def fitnessFunction(state,function,kk):\n",
        "    a = state[:kk]\n",
        "    b = state[kk:]\n",
        "    a = int(a,2)\n",
        "    b = int(b,2)\n",
        "    return Function(function,a,b)\n",
        "  return sorted([(h,fitnessFunction(h,function,kk)) for h in individuals],key = lambda x:x[1])  \n"
      ],
      "execution_count": 12,
      "outputs": []
    },
    {
      "cell_type": "markdown",
      "metadata": {
        "id": "2hgfOIgkHw7R"
      },
      "source": [
        "## RandomSelection Function"
      ]
    },
    {
      "cell_type": "code",
      "metadata": {
        "id": "a9YtIiDJQi-s"
      },
      "source": [
        "def function_for_randomStart(nums,first,last,kk):\n",
        "  no_of_people=[]\n",
        "  for i in range(0,nums):\n",
        "    a = random.randint(first,last)\n",
        "    b = random.randint(first,last)\n",
        "    outcome = function_for_intToBin(a,kk)\n",
        "    utility = function_for_intToBin(b,kk)\n",
        "    result = outcome+utility\n",
        "    no_of_people.append(result)\n",
        "  return no_of_people\n",
        "\n",
        "def function_for_randomSelect(nums,top_population):\n",
        "   p = random.randint(0,nums-1)\n",
        "   q = random.randint(0,nums-1)\n",
        "   if top_population[p][1] < top_population[q][1]:\n",
        "     return p\n",
        "   else:\n",
        "     return q  \n"
      ],
      "execution_count": 13,
      "outputs": []
    },
    {
      "cell_type": "markdown",
      "metadata": {
        "id": "03iL2vCAHw7S"
      },
      "source": [
        "## Minimum Value of Final Population"
      ]
    },
    {
      "cell_type": "code",
      "metadata": {
        "id": "Na93v3PXx952",
        "colab": {
          "base_uri": "https://localhost:8080/"
        },
        "outputId": "1a458789-7ec6-4cf1-8576-e36a4958bde0"
      },
      "source": [
        "number=10\n",
        "population = function_for_randomStart(number,p,q,nums)\n",
        "new_population = population.copy()\n",
        "x=100\n",
        "\n",
        "for k in range(0,x):\n",
        "  successor_population = rankingPopulation_function(new_population,fun,nums)\n",
        "  upcoming_generation = []\n",
        "\n",
        "  for l in range(0,number//2):\n",
        "    token1 = function_for_randomSelect(number,successor_population)\n",
        "    token2 = function_for_randomSelect(number,successor_population)\n",
        "    k1,k2 = Function_for_crossover(successor_population[token1][0],successor_population[token2][0],nums)\n",
        "    upcoming_generation.append(k1)\n",
        "    upcoming_generation.append(k2)\n",
        "\n",
        "  for n1 in upcoming_generation:\n",
        "    Function_for_mutation(n1,nums)  \n",
        "\n",
        "  new_population = upcoming_generation.copy()\n",
        "  total_population = rankingPopulation_function(new_population,fun,nums)\n",
        "\n",
        "for p in range(0,5):\n",
        "  print(\"For\",total_population[p][0],\"The Minimum value of z is :\",total_population[p][1])\n",
        "\n"
      ],
      "execution_count": 14,
      "outputs": [
        {
          "output_type": "stream",
          "text": [
            "For 001110 The Minimum value of z is : -8\n",
            "For 000011 The Minimum value of z is : -3\n",
            "For 000011 The Minimum value of z is : -3\n",
            "For 010011 The Minimum value of z is : 1\n",
            "For 010011 The Minimum value of z is : 1\n"
          ],
          "name": "stdout"
        }
      ]
    },
    {
      "cell_type": "code",
      "metadata": {
        "id": "AV0TrnBkHw7T"
      },
      "source": [
        ""
      ],
      "execution_count": 14,
      "outputs": []
    }
  ]
}