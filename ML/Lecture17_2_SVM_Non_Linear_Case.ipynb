{
  "nbformat": 4,
  "nbformat_minor": 0,
  "metadata": {
    "colab": {
      "name": "SVM_Non_Linear_Case.ipynb",
      "provenance": []
    },
    "kernelspec": {
      "name": "python3",
      "display_name": "Python 3"
    }
  },
  "cells": [
    {
      "cell_type": "markdown",
      "metadata": {
        "id": "EvsNUFJVMPOu"
      },
      "source": [
        "\n",
        "#Importing Libraries\n"
      ]
    },
    {
      "cell_type": "markdown",
      "metadata": {
        "id": "zf2YKOPKw16M"
      },
      "source": [
        "Credits: T. Kardi and Jason"
      ]
    },
    {
      "cell_type": "code",
      "metadata": {
        "id": "-FJiMDZ3DjB1"
      },
      "source": [
        "import numpy as np\n",
        "import math\n",
        "import pandas as pd\n",
        "import matplotlib.pyplot as plt\n",
        "from sklearn import svm\n",
        "import sklearn.metrics as metric\n",
        "%matplotlib inline"
      ],
      "execution_count": null,
      "outputs": []
    },
    {
      "cell_type": "markdown",
      "metadata": {
        "id": "90XrBUwmMi3k"
      },
      "source": [
        "#Generate Data:Linear Separable Data"
      ]
    },
    {
      "cell_type": "code",
      "metadata": {
        "id": "ZU7NWUr_DpTT",
        "colab": {
          "base_uri": "https://localhost:8080/"
        },
        "outputId": "79a7a2d2-b24f-4c32-a0ef-7a4a3359b96f"
      },
      "source": [
        "X_train = np.array([[  7. ,  20. ],\n",
        "       [  8. ,  12. ],\n",
        "       [  9. ,  19. ],\n",
        "       [ 10. ,  17. ],\n",
        "       [ 11. ,  15. ],\n",
        "       [ 13. ,  14. ],\n",
        "       [ 14. ,  12. ],\n",
        "       [ 15. ,  14. ],\n",
        "       [ 15. ,  17. ],\n",
        "       [ 16. ,  16. ],\n",
        "       [  4. ,  15. ],\n",
        "       [  5.5,  12. ],\n",
        "       [  7. ,  10. ],\n",
        "       [  8. ,  10. ],\n",
        "       [  9. ,   9. ],\n",
        "       [ 10. ,   8. ],\n",
        "       [ 11. ,   5. ],\n",
        "       [ 12. ,   7. ],\n",
        "       [ 12. ,   9. ],\n",
        "       [ 13. ,  10. ]])\n",
        "y_train = ([-1,-1,-1,-1,-1,-1,-1,-1,-1,-1,1,1,1,1,1,1,1,1,1,1])\n",
        "print(X_train)\n",
        "print(y_train)\n",
        "print(X_train.shape)\n",
        "print(len(y_train))\n"
      ],
      "execution_count": null,
      "outputs": [
        {
          "output_type": "stream",
          "text": [
            "[[ 7.  20. ]\n",
            " [ 8.  12. ]\n",
            " [ 9.  19. ]\n",
            " [10.  17. ]\n",
            " [11.  15. ]\n",
            " [13.  14. ]\n",
            " [14.  12. ]\n",
            " [15.  14. ]\n",
            " [15.  17. ]\n",
            " [16.  16. ]\n",
            " [ 4.  15. ]\n",
            " [ 5.5 12. ]\n",
            " [ 7.  10. ]\n",
            " [ 8.  10. ]\n",
            " [ 9.   9. ]\n",
            " [10.   8. ]\n",
            " [11.   5. ]\n",
            " [12.   7. ]\n",
            " [12.   9. ]\n",
            " [13.  10. ]]\n",
            "[-1, -1, -1, -1, -1, -1, -1, -1, -1, -1, 1, 1, 1, 1, 1, 1, 1, 1, 1, 1]\n",
            "(20, 2)\n",
            "20\n"
          ],
          "name": "stdout"
        }
      ]
    },
    {
      "cell_type": "code",
      "metadata": {
        "colab": {
          "base_uri": "https://localhost:8080/",
          "height": 279
        },
        "id": "cAhZ1BdUNXOJ",
        "outputId": "18592e7b-2456-4eee-f69e-31545aa1e1ef"
      },
      "source": [
        "\n",
        "plt.scatter(X_train[:,0],X_train[:,1],c='b',s=50)\n",
        "plt.xlabel('X1')\n",
        "plt.ylabel('X2');"
      ],
      "execution_count": null,
      "outputs": [
        {
          "output_type": "display_data",
          "data": {
            "image/png": "[encoded data removed]",
            "text/plain": [
              "<Figure size 432x288 with 1 Axes>"
            ]
          },
          "metadata": {
            "tags": [],
            "needs_background": "light"
          }
        }
      ]
    },
    {
      "cell_type": "code",
      "metadata": {
        "colab": {
          "base_uri": "https://localhost:8080/"
        },
        "id": "xDk-xrSrEEpA",
        "outputId": "559724fb-3a99-4ed4-f6b2-324be27ff128"
      },
      "source": [
        "target_names=['-1','+1']\n",
        "target_names"
      ],
      "execution_count": null,
      "outputs": [
        {
          "output_type": "execute_result",
          "data": {
            "text/plain": [
              "['-1', '+1']"
            ]
          },
          "metadata": {
            "tags": []
          },
          "execution_count": 11
        }
      ]
    },
    {
      "cell_type": "code",
      "metadata": {
        "id": "thboc_DeGXPM"
      },
      "source": [
        "idxPlus = []\n",
        "idxMin = []\n",
        "for i, x in enumerate(y_train):\n",
        "  if x > 0:\n",
        "    idxPlus.append(i)\n",
        "  else:\n",
        "    idxMin.append(i)"
      ],
      "execution_count": null,
      "outputs": []
    },
    {
      "cell_type": "code",
      "metadata": {
        "colab": {
          "base_uri": "https://localhost:8080/"
        },
        "id": "NixuqFqjGzAy",
        "outputId": "d1672ac9-46b7-4e20-a93b-e3b522f43c99"
      },
      "source": [
        "print(idxMin)\n",
        "print(idxPlus)"
      ],
      "execution_count": null,
      "outputs": [
        {
          "output_type": "stream",
          "text": [
            "[0, 1, 2, 3, 4, 5, 6, 7, 8, 9]\n",
            "[10, 11, 12, 13, 14, 15, 16, 17, 18, 19]\n"
          ],
          "name": "stdout"
        }
      ]
    },
    {
      "cell_type": "code",
      "metadata": {
        "colab": {
          "base_uri": "https://localhost:8080/",
          "height": 279
        },
        "id": "MSWUHDFuEK50",
        "outputId": "fcae2de8-e52c-4e2b-8d74-bafb98763a61"
      },
      "source": [
        "plt.scatter(X_train[idxPlus,0],X_train[idxPlus,1],c='b',s=50)\n",
        "plt.scatter(X_train[idxMin,0],X_train[idxMin,1],c='r',s=50)\n",
        "plt.legend(target_names,loc=2)\n",
        "plt.xlabel('X1')\n",
        "plt.ylabel('X2');\n"
      ],
      "execution_count": null,
      "outputs": [
        {
          "output_type": "display_data",
          "data": {
            "image/png": "[encoded data removed]",
            "text/plain": [
              "<Figure size 432x288 with 1 Axes>"
            ]
          },
          "metadata": {
            "tags": [],
            "needs_background": "light"
          }
        }
      ]
    },
    {
      "cell_type": "code",
      "metadata": {
        "colab": {
          "base_uri": "https://localhost:8080/"
        },
        "id": "f8h1gUqRGyRS",
        "outputId": "5ece55ea-6cd8-4443-98d2-48f6ee39c25e"
      },
      "source": [
        "svc = svm.SVC(kernel='poly',degree=2,C=100).fit(X_train,y_train)\n",
        "svc"
      ],
      "execution_count": null,
      "outputs": [
        {
          "output_type": "execute_result",
          "data": {
            "text/plain": [
              "SVC(C=100, break_ties=False, cache_size=200, class_weight=None, coef0=0.0,\n",
              "    decision_function_shape='ovr', degree=2, gamma='scale', kernel='poly',\n",
              "    max_iter=-1, probability=False, random_state=None, shrinking=True,\n",
              "    tol=0.001, verbose=False)"
            ]
          },
          "metadata": {
            "tags": []
          },
          "execution_count": 31
        }
      ]
    },
    {
      "cell_type": "code",
      "metadata": {
        "colab": {
          "base_uri": "https://localhost:8080/"
        },
        "id": "IBdzOEQ1EL78",
        "outputId": "c8e39f57-3399-4aff-ef24-7dc7c197f936"
      },
      "source": [
        "svc.get_params(True)"
      ],
      "execution_count": null,
      "outputs": [
        {
          "output_type": "execute_result",
          "data": {
            "text/plain": [
              "{'C': 100,\n",
              " 'break_ties': False,\n",
              " 'cache_size': 200,\n",
              " 'class_weight': None,\n",
              " 'coef0': 0.0,\n",
              " 'decision_function_shape': 'ovr',\n",
              " 'degree': 2,\n",
              " 'gamma': 'scale',\n",
              " 'kernel': 'poly',\n",
              " 'max_iter': -1,\n",
              " 'probability': False,\n",
              " 'random_state': None,\n",
              " 'shrinking': True,\n",
              " 'tol': 0.001,\n",
              " 'verbose': False}"
            ]
          },
          "metadata": {
            "tags": []
          },
          "execution_count": 32
        }
      ]
    },
    {
      "cell_type": "code",
      "metadata": {
        "colab": {
          "base_uri": "https://localhost:8080/"
        },
        "id": "6o-1zI6wHHJw",
        "outputId": "62eca402-87e1-46da-cd9b-21ab44f46cfb"
      },
      "source": [
        "lbX1=math.floor(min(X_train[:,0]))-1\n",
        "ubX1=math.ceil(max(X_train[:,0]))+1\n",
        "lbX2=math.floor(min(X_train[:,1]))-1\n",
        "ubX2=math.ceil(max(X_train[:,1]))+1\n",
        "[lbX1,ubX1,lbX2,ubX2]"
      ],
      "execution_count": null,
      "outputs": [
        {
          "output_type": "execute_result",
          "data": {
            "text/plain": [
              "[3, 17, 4, 21]"
            ]
          },
          "metadata": {
            "tags": []
          },
          "execution_count": 33
        }
      ]
    },
    {
      "cell_type": "code",
      "metadata": {
        "colab": {
          "base_uri": "https://localhost:8080/",
          "height": 298
        },
        "id": "QWZQJYGWHTXr",
        "outputId": "e3c27ff1-bb10-497f-9330-42ce3aa54b21"
      },
      "source": [
        "plt.scatter(X_train[idxPlus,0],X_train[idxPlus,1],c='b',s=50)\n",
        "plt.scatter(X_train[idxMin,0],X_train[idxMin,1],c='r',s=50)\n",
        "plt.legend(target_names,loc=2)\n",
        "\n",
        "X,Y = np.mgrid[lbX1:ubX1:100j,lbX2:ubX2:100j]\n",
        "Z = svc.decision_function(np.c_[X.ravel(),Y.ravel()])\n",
        "Z = Z.reshape(X.shape)\n",
        "plt.contourf(X,Y,Z > 0,alpha=0.4)\n",
        "plt.contour(X,Y,Z,colors=['k'], linestyles=['-'],levels=[0])\n",
        "\n",
        "plt.title('Linearly Separable')\n"
      ],
      "execution_count": null,
      "outputs": [
        {
          "output_type": "execute_result",
          "data": {
            "text/plain": [
              "Text(0.5, 1.0, 'Linearly Separable')"
            ]
          },
          "metadata": {
            "tags": []
          },
          "execution_count": 34
        },
        {
          "output_type": "display_data",
          "data": {
            "image/png": "[encoded data removed]",
            "text/plain": [
              "<Figure size 432x288 with 1 Axes>"
            ]
          },
          "metadata": {
            "tags": [],
            "needs_background": "light"
          }
        }
      ]
    },
    {
      "cell_type": "code",
      "metadata": {
        "colab": {
          "base_uri": "https://localhost:8080/"
        },
        "id": "e_ip7W1QSOMz",
        "outputId": "5194a736-099b-4680-d3f4-a5acc17b34e8"
      },
      "source": [
        "svc.score(X_train,y_train)"
      ],
      "execution_count": null,
      "outputs": [
        {
          "output_type": "execute_result",
          "data": {
            "text/plain": [
              "1.0"
            ]
          },
          "metadata": {
            "tags": []
          },
          "execution_count": 36
        }
      ]
    },
    {
      "cell_type": "code",
      "metadata": {
        "colab": {
          "base_uri": "https://localhost:8080/",
          "height": 298
        },
        "id": "ky_n_c_gHgKQ",
        "outputId": "a6e16638-ac7c-44c2-dcc8-4a0c60e55908"
      },
      "source": [
        "plt.scatter(X_train[idxPlus,0],X_train[idxPlus,1],c='b',s=20)\n",
        "plt.scatter(X_train[idxMin,0],X_train[idxMin,1],c='r',s=20)\n",
        "plt.legend(target_names,loc=2)\n",
        "X,Y = np.mgrid[lbX1:ubX1:100j,lbX2:ubX2:100j]\n",
        "Z = svc.decision_function(np.c_[X.ravel(),Y.ravel()])\n",
        "Z = Z.reshape(X.shape)\n",
        "\n",
        "plt.contourf(X,Y,Z > 0,alpha=0.4)\n",
        "plt.contour(X,Y,Z,colors=['k','k','k'], linestyles=['--','-','--'],levels=[-1,0,1])\n",
        "plt.scatter(svc.support_vectors_[:,0],svc.support_vectors_[:,1],s=20,facecolors='none')\n",
        "plt.scatter(X_train[:,0],X_train[:,1],c=y_train,s=20,alpha=0.95);\n",
        "\n",
        "plt.title('Margin and Support Vectors')\n"
      ],
      "execution_count": null,
      "outputs": [
        {
          "output_type": "execute_result",
          "data": {
            "text/plain": [
              "Text(0.5, 1.0, 'Margin and Support Vectors')"
            ]
          },
          "metadata": {
            "tags": []
          },
          "execution_count": 40
        },
        {
          "output_type": "display_data",
          "data": {
            "image/png": "[encoded data removed]",
            "text/plain": [
              "<Figure size 432x288 with 1 Axes>"
            ]
          },
          "metadata": {
            "tags": [],
            "needs_background": "light"
          }
        }
      ]
    },
    {
      "cell_type": "markdown",
      "metadata": {
        "id": "g6uh2bAFHt9c"
      },
      "source": [
        "svc.n_support_\n"
      ]
    },
    {
      "cell_type": "code",
      "metadata": {
        "colab": {
          "base_uri": "https://localhost:8080/"
        },
        "id": "U03PNHLmHqXF",
        "outputId": "df25db38-dd58-4a1a-fda8-2209f5b0bc67"
      },
      "source": [
        "svc.n_support_\n"
      ],
      "execution_count": null,
      "outputs": [
        {
          "output_type": "execute_result",
          "data": {
            "text/plain": [
              "array([1, 3], dtype=int32)"
            ]
          },
          "metadata": {
            "tags": []
          },
          "execution_count": 41
        }
      ]
    },
    {
      "cell_type": "code",
      "metadata": {
        "id": "ZK1jhmc5HvLf"
      },
      "source": [
        ""
      ],
      "execution_count": null,
      "outputs": []
    },
    {
      "cell_type": "code",
      "metadata": {
        "colab": {
          "base_uri": "https://localhost:8080/"
        },
        "id": "8w-HumPLHxhe",
        "outputId": "f102fcf0-0b0d-4bb3-c4a3-90f00d852e58"
      },
      "source": [
        "svc.support_vectors_\n"
      ],
      "execution_count": null,
      "outputs": [
        {
          "output_type": "execute_result",
          "data": {
            "text/plain": [
              "array([[ 8. , 12. ],\n",
              "       [ 4. , 15. ],\n",
              "       [ 5.5, 12. ],\n",
              "       [13. , 10. ]])"
            ]
          },
          "metadata": {
            "tags": []
          },
          "execution_count": 42
        }
      ]
    },
    {
      "cell_type": "code",
      "metadata": {
        "colab": {
          "base_uri": "https://localhost:8080/"
        },
        "id": "sME9IR0PIBMz",
        "outputId": "ad223b2e-48fb-43c0-d994-4ec1df454d40"
      },
      "source": [
        "svc.score(X_train, y_train)\n"
      ],
      "execution_count": null,
      "outputs": [
        {
          "output_type": "execute_result",
          "data": {
            "text/plain": [
              "1.0"
            ]
          },
          "metadata": {
            "tags": []
          },
          "execution_count": 44
        }
      ]
    },
    {
      "cell_type": "code",
      "metadata": {
        "colab": {
          "base_uri": "https://localhost:8080/"
        },
        "id": "4AKfvY57IIf-",
        "outputId": "f707e967-084c-40d6-9dc3-571495eac0d7"
      },
      "source": [
        "print(svc.predict([[8,15]]))"
      ],
      "execution_count": null,
      "outputs": [
        {
          "output_type": "stream",
          "text": [
            "[-1]\n"
          ],
          "name": "stdout"
        }
      ]
    },
    {
      "cell_type": "code",
      "metadata": {
        "colab": {
          "base_uri": "https://localhost:8080/",
          "height": 298
        },
        "id": "QMpyERRUIV4U",
        "outputId": "62ae92d7-8169-4916-8e04-c6a8175616e2"
      },
      "source": [
        "\n",
        "plt.scatter(X_train[idxPlus,0],X_train[idxPlus,1],c='b',s=50)\n",
        "plt.scatter(X_train[idxMin,0],X_train[idxMin,1],c='r',s=50)\n",
        "plt.scatter(8,15,c='r',marker='s',s=90)\n",
        "plt.legend(['-1','+1','prediction'],loc=2)\n",
        "\n",
        "X,Y = np.mgrid[lbX1:ubX1:100j,lbX2:ubX2:100j]\n",
        "Z = svc.decision_function(np.c_[X.ravel(),Y.ravel()])\n",
        "Z = Z.reshape(X.shape)\n",
        "plt.contourf(X,Y,Z > 0,alpha=0.4)\n",
        "plt.contour(X,Y,Z,colors=['k'], linestyles=['-'],levels=[0])\n",
        "\n",
        "plt.title('Prediction')\n"
      ],
      "execution_count": null,
      "outputs": [
        {
          "output_type": "execute_result",
          "data": {
            "text/plain": [
              "Text(0.5, 1.0, 'Prediction')"
            ]
          },
          "metadata": {
            "tags": []
          },
          "execution_count": 49
        },
        {
          "output_type": "display_data",
          "data": {
            "image/png": "[encoded data removed]",
            "text/plain": [
              "<Figure size 432x288 with 1 Axes>"
            ]
          },
          "metadata": {
            "tags": [],
            "needs_background": "light"
          }
        }
      ]
    },
    {
      "cell_type": "code",
      "metadata": {
        "id": "JF1WCwg_IdAT"
      },
      "source": [
        ""
      ],
      "execution_count": null,
      "outputs": []
    }
  ]
}