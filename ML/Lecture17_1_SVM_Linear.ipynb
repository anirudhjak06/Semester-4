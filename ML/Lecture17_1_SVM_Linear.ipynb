{
  "nbformat": 4,
  "nbformat_minor": 0,
  "metadata": {
    "colab": {
      "name": "SVM_Linear.ipynb",
      "provenance": [],
      "toc_visible": true
    },
    "kernelspec": {
      "name": "python3",
      "display_name": "Python 3"
    }
  },
  "cells": [
    {
      "cell_type": "markdown",
      "metadata": {
        "id": "EvsNUFJVMPOu"
      },
      "source": [
        "\n",
        "#Importing Libraries\n"
      ]
    },
    {
      "cell_type": "markdown",
      "metadata": {
        "id": "1L1IqLKAwrM-"
      },
      "source": [
        "Credits: T. Kardi and Jason"
      ]
    },
    {
      "cell_type": "code",
      "metadata": {
        "id": "-FJiMDZ3DjB1"
      },
      "source": [
        "import numpy as np\n",
        "import math\n",
        "import pandas as pd\n",
        "import matplotlib.pyplot as plt\n",
        "from sklearn import svm\n",
        "import sklearn.metrics as metric\n",
        "%matplotlib inline"
      ],
      "execution_count": null,
      "outputs": []
    },
    {
      "cell_type": "markdown",
      "metadata": {
        "id": "90XrBUwmMi3k"
      },
      "source": [
        "#Generate Data:Linear Separable Data"
      ]
    },
    {
      "cell_type": "code",
      "metadata": {
        "id": "ZU7NWUr_DpTT",
        "colab": {
          "base_uri": "https://localhost:8080/"
        },
        "outputId": "a90b72b5-ab94-452b-b7b3-1fc77157f32c"
      },
      "source": [
        "X_train = np.array([[1,2],\n",
        "             [5,8],\n",
        "             [1.5,0.8],\n",
        "             [8,8],\n",
        "             [1,0.6],\n",
        "             [9,11]])\n",
        "y_train = ([-1,1,-1,1,-1,1])\n",
        "print(X_train)\n",
        "print(y_train)"
      ],
      "execution_count": null,
      "outputs": [
        {
          "output_type": "stream",
          "text": [
            "[[ 1.   2. ]\n",
            " [ 5.   8. ]\n",
            " [ 1.5  0.8]\n",
            " [ 8.   8. ]\n",
            " [ 1.   0.6]\n",
            " [ 9.  11. ]]\n",
            "[-1, 1, -1, 1, -1, 1]\n"
          ],
          "name": "stdout"
        }
      ]
    },
    {
      "cell_type": "code",
      "metadata": {
        "colab": {
          "base_uri": "https://localhost:8080/",
          "height": 279
        },
        "id": "cAhZ1BdUNXOJ",
        "outputId": "7754456c-0126-452a-a190-2159bb86f01f"
      },
      "source": [
        "\n",
        "plt.scatter(X_train[:,0],X_train[:,1],c='b',s=50)\n",
        "plt.xlabel('X1')\n",
        "plt.ylabel('X2');"
      ],
      "execution_count": null,
      "outputs": [
        {
          "output_type": "display_data",
          "data": {
            "image/png": "[encoded data removed]",
            "text/plain": [
              "<Figure size 432x288 with 1 Axes>"
            ]
          },
          "metadata": {
            "tags": [],
            "needs_background": "light"
          }
        }
      ]
    },
    {
      "cell_type": "code",
      "metadata": {
        "colab": {
          "base_uri": "https://localhost:8080/"
        },
        "id": "xDk-xrSrEEpA",
        "outputId": "0c6aa350-34ec-4fd3-fc8f-a205af21b2ad"
      },
      "source": [
        "target_names=['-1','+1']\n",
        "target_names"
      ],
      "execution_count": null,
      "outputs": [
        {
          "output_type": "execute_result",
          "data": {
            "text/plain": [
              "['-1', '+1']"
            ]
          },
          "metadata": {
            "tags": []
          },
          "execution_count": 17
        }
      ]
    },
    {
      "cell_type": "code",
      "metadata": {
        "id": "thboc_DeGXPM"
      },
      "source": [
        "idxPlus = []\n",
        "idxMin = []\n",
        "for i, x in enumerate(y_train):\n",
        "  if x > 0:\n",
        "    idxPlus.append(i)\n",
        "  else:\n",
        "    idxMin.append(i)"
      ],
      "execution_count": null,
      "outputs": []
    },
    {
      "cell_type": "code",
      "metadata": {
        "colab": {
          "base_uri": "https://localhost:8080/"
        },
        "id": "NixuqFqjGzAy",
        "outputId": "1b035b14-1705-4939-f1a7-9769492c932e"
      },
      "source": [
        "print(idxMin)\n",
        "print(idxPlus)"
      ],
      "execution_count": null,
      "outputs": [
        {
          "output_type": "stream",
          "text": [
            "[0, 2, 4]\n",
            "[1, 3, 5]\n"
          ],
          "name": "stdout"
        }
      ]
    },
    {
      "cell_type": "code",
      "metadata": {
        "colab": {
          "base_uri": "https://localhost:8080/",
          "height": 279
        },
        "id": "MSWUHDFuEK50",
        "outputId": "12a02736-fa13-48c1-d458-da71d5dc93a9"
      },
      "source": [
        "plt.scatter(X_train[idxPlus,0],X_train[idxPlus,1],c='b',s=50)\n",
        "plt.scatter(X_train[idxMin,0],X_train[idxMin,1],c='r',s=50)\n",
        "plt.legend(target_names,loc=2)\n",
        "plt.xlabel('X1')\n",
        "plt.ylabel('X2');\n"
      ],
      "execution_count": null,
      "outputs": [
        {
          "output_type": "display_data",
          "data": {
            "image/png": "[encoded data removed]",
            "text/plain": [
              "<Figure size 432x288 with 1 Axes>"
            ]
          },
          "metadata": {
            "tags": [],
            "needs_background": "light"
          }
        }
      ]
    },
    {
      "cell_type": "code",
      "metadata": {
        "colab": {
          "base_uri": "https://localhost:8080/"
        },
        "id": "f8h1gUqRGyRS",
        "outputId": "c79c09b4-c33d-4f9c-9c16-05179107f5ec"
      },
      "source": [
        "svc = svm.SVC(kernel='linear').fit(X_train,y_train)\n",
        "svc"
      ],
      "execution_count": null,
      "outputs": [
        {
          "output_type": "execute_result",
          "data": {
            "text/plain": [
              "SVC(C=1.0, break_ties=False, cache_size=200, class_weight=None, coef0=0.0,\n",
              "    decision_function_shape='ovr', degree=3, gamma='scale', kernel='linear',\n",
              "    max_iter=-1, probability=False, random_state=None, shrinking=True,\n",
              "    tol=0.001, verbose=False)"
            ]
          },
          "metadata": {
            "tags": []
          },
          "execution_count": 20
        }
      ]
    },
    {
      "cell_type": "code",
      "metadata": {
        "colab": {
          "base_uri": "https://localhost:8080/"
        },
        "id": "IBdzOEQ1EL78",
        "outputId": "2b1b4879-df6f-4e08-fb98-5349020162b4"
      },
      "source": [
        "svc.get_params(True)"
      ],
      "execution_count": null,
      "outputs": [
        {
          "output_type": "execute_result",
          "data": {
            "text/plain": [
              "{'C': 1.0,\n",
              " 'break_ties': False,\n",
              " 'cache_size': 200,\n",
              " 'class_weight': None,\n",
              " 'coef0': 0.0,\n",
              " 'decision_function_shape': 'ovr',\n",
              " 'degree': 3,\n",
              " 'gamma': 'scale',\n",
              " 'kernel': 'linear',\n",
              " 'max_iter': -1,\n",
              " 'probability': False,\n",
              " 'random_state': None,\n",
              " 'shrinking': True,\n",
              " 'tol': 0.001,\n",
              " 'verbose': False}"
            ]
          },
          "metadata": {
            "tags": []
          },
          "execution_count": 21
        }
      ]
    },
    {
      "cell_type": "code",
      "metadata": {
        "colab": {
          "base_uri": "https://localhost:8080/"
        },
        "id": "6o-1zI6wHHJw",
        "outputId": "f0988875-7f6b-42ad-a714-d5944deae6f8"
      },
      "source": [
        "lbX1=math.floor(min(X_train[:,0]))-1\n",
        "ubX1=math.ceil(max(X_train[:,0]))+1\n",
        "lbX2=math.floor(min(X_train[:,1]))-1\n",
        "ubX2=math.ceil(max(X_train[:,1]))+1\n",
        "[lbX1,ubX1,lbX2,ubX2]"
      ],
      "execution_count": null,
      "outputs": [
        {
          "output_type": "execute_result",
          "data": {
            "text/plain": [
              "[0, 10, -1, 12]"
            ]
          },
          "metadata": {
            "tags": []
          },
          "execution_count": 22
        }
      ]
    },
    {
      "cell_type": "code",
      "metadata": {
        "colab": {
          "base_uri": "https://localhost:8080/",
          "height": 299
        },
        "id": "QWZQJYGWHTXr",
        "outputId": "f91cc632-19e5-420c-e93e-b5692a2d7a27"
      },
      "source": [
        "plt.scatter(X_train[idxPlus,0],X_train[idxPlus,1],c='b',s=50)\n",
        "plt.scatter(X_train[idxMin,0],X_train[idxMin,1],c='r',s=50)\n",
        "plt.legend(target_names,loc=2)\n",
        "\n",
        "X,Y = np.mgrid[lbX1:ubX1:100j,lbX2:ubX2:100j]\n",
        "Z = svc.decision_function(np.c_[X.ravel(),Y.ravel()])\n",
        "Z = Z.reshape(X.shape)\n",
        "plt.contourf(X,Y,Z > 0,alpha=0.4)\n",
        "plt.contour(X,Y,Z,colors=['k'], linestyles=['-'],levels=[0])\n",
        "\n",
        "plt.title('Linearly Separable')\n"
      ],
      "execution_count": null,
      "outputs": [
        {
          "output_type": "execute_result",
          "data": {
            "text/plain": [
              "Text(0.5, 1.0, 'Linearly Separable')"
            ]
          },
          "metadata": {
            "tags": []
          },
          "execution_count": 23
        },
        {
          "output_type": "display_data",
          "data": {
            "image/png": "[encoded data removed]",
            "text/plain": [
              "<Figure size 432x288 with 1 Axes>"
            ]
          },
          "metadata": {
            "tags": [],
            "needs_background": "light"
          }
        }
      ]
    },
    {
      "cell_type": "code",
      "metadata": {
        "colab": {
          "base_uri": "https://localhost:8080/",
          "height": 299
        },
        "id": "ky_n_c_gHgKQ",
        "outputId": "eb94d5d9-057c-4011-cc45-7e9055342138"
      },
      "source": [
        "plt.scatter(X_train[idxPlus,0],X_train[idxPlus,1],c='b',s=50)\n",
        "plt.scatter(X_train[idxMin,0],X_train[idxMin,1],c='r',s=50)\n",
        "plt.legend(target_names,loc=2)\n",
        "X,Y = np.mgrid[lbX1:ubX1:100j,lbX2:ubX2:100j]\n",
        "Z = svc.decision_function(np.c_[X.ravel(),Y.ravel()])\n",
        "Z = Z.reshape(X.shape)\n",
        "\n",
        "plt.contourf(X,Y,Z > 0,alpha=0.4)\n",
        "plt.contour(X,Y,Z,colors=['k','k','k'], linestyles=['--','-','--'],levels=[-1,0,1])\n",
        "plt.scatter(svc.support_vectors_[:,0],svc.support_vectors_[:,1],s=120,facecolors='none')\n",
        "plt.scatter(X_train[:,0],X_train[:,1],c=y_train,s=50,alpha=0.95);\n",
        "\n",
        "plt.title('Margin and Support Vectors')\n"
      ],
      "execution_count": null,
      "outputs": [
        {
          "output_type": "execute_result",
          "data": {
            "text/plain": [
              "Text(0.5, 1.0, 'Margin and Support Vectors')"
            ]
          },
          "metadata": {
            "tags": []
          },
          "execution_count": 24
        },
        {
          "output_type": "display_data",
          "data": {
            "image/png": "[encoded data removed]",
            "text/plain": [
              "<Figure size 432x288 with 1 Axes>"
            ]
          },
          "metadata": {
            "tags": [],
            "needs_background": "light"
          }
        }
      ]
    },
    {
      "cell_type": "markdown",
      "metadata": {
        "id": "g6uh2bAFHt9c"
      },
      "source": [
        "svc.n_support_\n"
      ]
    },
    {
      "cell_type": "code",
      "metadata": {
        "colab": {
          "base_uri": "https://localhost:8080/"
        },
        "id": "U03PNHLmHqXF",
        "outputId": "9ddfbac2-35a3-4419-a8cc-4b80e3f24845"
      },
      "source": [
        "svc.n_support_\n"
      ],
      "execution_count": null,
      "outputs": [
        {
          "output_type": "execute_result",
          "data": {
            "text/plain": [
              "array([1, 1], dtype=int32)"
            ]
          },
          "metadata": {
            "tags": []
          },
          "execution_count": 105
        }
      ]
    },
    {
      "cell_type": "code",
      "metadata": {
        "id": "ZK1jhmc5HvLf"
      },
      "source": [
        ""
      ],
      "execution_count": null,
      "outputs": []
    },
    {
      "cell_type": "code",
      "metadata": {
        "colab": {
          "base_uri": "https://localhost:8080/"
        },
        "id": "8w-HumPLHxhe",
        "outputId": "fea7ed91-e24a-4f7a-a74c-bad7c8756b37"
      },
      "source": [
        "svc.support_vectors_\n"
      ],
      "execution_count": null,
      "outputs": [
        {
          "output_type": "execute_result",
          "data": {
            "text/plain": [
              "array([[1., 2.],\n",
              "       [5., 8.]])"
            ]
          },
          "metadata": {
            "tags": []
          },
          "execution_count": 106
        }
      ]
    },
    {
      "cell_type": "code",
      "metadata": {
        "colab": {
          "base_uri": "https://localhost:8080/"
        },
        "id": "GW5WpRaGH5AI",
        "outputId": "8e4f6289-6df5-4345-9481-53e083ecb7f8"
      },
      "source": [
        "weight=svc.coef_\n",
        "intercept=svc.intercept_\n",
        "a = -weight[0,0] / weight[0,1]\n",
        "print('x2=',a,' * x1 + ',-intercept[0]/weight[0,1])"
      ],
      "execution_count": null,
      "outputs": [
        {
          "output_type": "stream",
          "text": [
            "x2= -0.6666666666666666  * x1 +  7.0\n"
          ],
          "name": "stdout"
        }
      ]
    },
    {
      "cell_type": "code",
      "metadata": {
        "colab": {
          "base_uri": "https://localhost:8080/"
        },
        "id": "sME9IR0PIBMz",
        "outputId": "595b1459-7643-4bab-b31f-1c1dedc3a1d1"
      },
      "source": [
        "svc.score(X_train, y_train)\n"
      ],
      "execution_count": null,
      "outputs": [
        {
          "output_type": "execute_result",
          "data": {
            "text/plain": [
              "1.0"
            ]
          },
          "metadata": {
            "tags": []
          },
          "execution_count": 108
        }
      ]
    },
    {
      "cell_type": "code",
      "metadata": {
        "colab": {
          "base_uri": "https://localhost:8080/"
        },
        "id": "4AKfvY57IIf-",
        "outputId": "da54cf4a-9284-4149-8cc9-8246ecc23bbf"
      },
      "source": [
        "print(svc.predict([[6,8]]))"
      ],
      "execution_count": null,
      "outputs": [
        {
          "output_type": "stream",
          "text": [
            "[1]\n"
          ],
          "name": "stdout"
        }
      ]
    },
    {
      "cell_type": "code",
      "metadata": {
        "colab": {
          "base_uri": "https://localhost:8080/",
          "height": 299
        },
        "id": "QMpyERRUIV4U",
        "outputId": "a574fcaf-6389-4d50-85f1-012983f6fd60"
      },
      "source": [
        "\n",
        "plt.scatter(X_train[idxPlus,0],X_train[idxPlus,1],c='b',s=50)\n",
        "plt.scatter(X_train[idxMin,0],X_train[idxMin,1],c='r',s=50)\n",
        "plt.scatter(6,8,c='r',marker='s',s=90)\n",
        "plt.legend(['-1','+1','prediction'],loc=2)\n",
        "\n",
        "X,Y = np.mgrid[lbX1:ubX1:100j,lbX2:ubX2:100j]\n",
        "Z = svc.decision_function(np.c_[X.ravel(),Y.ravel()])\n",
        "Z = Z.reshape(X.shape)\n",
        "plt.contourf(X,Y,Z > 0,alpha=0.4)\n",
        "plt.contour(X,Y,Z,colors=['k'], linestyles=['-'],levels=[0])\n",
        "\n",
        "plt.title('Prediction')\n"
      ],
      "execution_count": null,
      "outputs": [
        {
          "output_type": "execute_result",
          "data": {
            "text/plain": [
              "Text(0.5, 1.0, 'Prediction')"
            ]
          },
          "metadata": {
            "tags": []
          },
          "execution_count": 29
        },
        {
          "output_type": "display_data",
          "data": {
            "image/png": "[encoded data removed]",
            "text/plain": [
              "<Figure size 432x288 with 1 Axes>"
            ]
          },
          "metadata": {
            "tags": [],
            "needs_background": "light"
          }
        }
      ]
    },
    {
      "cell_type": "code",
      "metadata": {
        "id": "JF1WCwg_IdAT"
      },
      "source": [
        ""
      ],
      "execution_count": null,
      "outputs": []
    }
  ]
}