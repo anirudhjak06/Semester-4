{
  "nbformat": 4,
  "nbformat_minor": 0,
  "metadata": {
    "colab": {
      "name": "Basics of Python and Numpy.ipynb",
      "provenance": []
    },
    "kernelspec": {
      "display_name": "Python 3",
      "language": "python",
      "name": "python3"
    },
    "language_info": {
      "codemirror_mode": {
        "name": "ipython",
        "version": 3
      },
      "file_extension": ".py",
      "mimetype": "text/x-python",
      "name": "python",
      "nbconvert_exporter": "python",
      "pygments_lexer": "ipython3",
      "version": "3.6.1"
    }
  },
  "cells": [
    {
      "cell_type": "markdown",
      "metadata": {
        "id": "WPqENXnaAmkk"
      },
      "source": [
        "\n",
        "#Basics of Python\n",
        "\n"
      ]
    },
    {
      "cell_type": "markdown",
      "metadata": {
        "id": "iKZyHnfpN1Lo"
      },
      "source": [
        "Text"
      ]
    },
    {
      "cell_type": "markdown",
      "metadata": {
        "id": "tKZSqo7HFGiF"
      },
      "source": [
        "# Everything in blocks of spaces\r\n",
        "No more {},[],()"
      ]
    },
    {
      "cell_type": "code",
      "metadata": {
        "colab": {
          "base_uri": "https://localhost:8080/"
        },
        "id": "5TP4jNhpOHP5",
        "outputId": "875480e9-c34a-4235-fe11-f7fbe3475a59"
      },
      "source": [
        "a=10\r\n",
        "print(a)"
      ],
      "execution_count": null,
      "outputs": [
        {
          "output_type": "stream",
          "text": [
            "10\n"
          ],
          "name": "stdout"
        }
      ]
    },
    {
      "cell_type": "markdown",
      "metadata": {
        "id": "vAbJMkHuAmlG"
      },
      "source": [
        "# MultiLine statements "
      ]
    },
    {
      "cell_type": "code",
      "metadata": {
        "colab": {
          "base_uri": "https://localhost:8080/"
        },
        "id": "5cTUAy1cAmlJ",
        "outputId": "f090fb27-cc10-4f4b-d93c-e9928cc6f53f"
      },
      "source": [
        "mark1=40\n",
        "mark2=50\n",
        "mark3=60\n",
        "total=mark1+\\\n",
        "mark2+\\\n",
        "mark3\n",
        "avg=total/3\n",
        "print (avg)"
      ],
      "execution_count": null,
      "outputs": [
        {
          "output_type": "stream",
          "text": [
            "50.0\n"
          ],
          "name": "stdout"
        }
      ]
    },
    {
      "cell_type": "code",
      "metadata": {
        "colab": {
          "base_uri": "https://localhost:8080/"
        },
        "id": "oKTcuje4AmlP",
        "outputId": "7af26e80-2d5f-4bd9-f9e9-3536408354a9"
      },
      "source": [
        "Num=['1','2','3',\n",
        "    '4','5','6']\n",
        "print (Num)"
      ],
      "execution_count": null,
      "outputs": [
        {
          "output_type": "stream",
          "text": [
            "['1', '2', '3', '4', '5', '6']\n"
          ],
          "name": "stdout"
        }
      ]
    },
    {
      "cell_type": "markdown",
      "metadata": {
        "collapsed": true,
        "id": "-Gg2Ny2KAmlR"
      },
      "source": [
        "# Quotes and Comments"
      ]
    },
    {
      "cell_type": "code",
      "metadata": {
        "colab": {
          "base_uri": "https://localhost:8080/"
        },
        "id": "W1oqm2WwAmlT",
        "outputId": "5f0dc9e8-5919-401c-de81-8dd2c100551f"
      },
      "source": [
        "word = 'word'\n",
        "sentence = \"This is a sentence.\"\n",
        "paragraph = \"\"\"This is a paragraph. It is\n",
        "made up of multiple lines and sentences.\"\"\"\n",
        "print (word)\n",
        "print (sentence)\n",
        "print (paragraph)\n"
      ],
      "execution_count": null,
      "outputs": [
        {
          "output_type": "stream",
          "text": [
            "word\n",
            "This is a sentence.\n",
            "This is a paragraph. It is\n",
            "made up of multiple lines and sentences.\n"
          ],
          "name": "stdout"
        }
      ]
    },
    {
      "cell_type": "code",
      "metadata": {
        "colab": {
          "base_uri": "https://localhost:8080/",
          "height": 35
        },
        "id": "orCf8Z-7AmlU",
        "outputId": "c1a93422-9d88-42e4-8f53-e4e655d1668f"
      },
      "source": [
        "#in line comment\n",
        "#This is a comment similiar to // in c.\n",
        "\"\"\"this is blockwise comment similiar to /* c style */ but it doesn't ecohs\"\"\"\n",
        "'''this is blockwise comment similiar to /* c style */ but it ecohs'''\n"
      ],
      "execution_count": null,
      "outputs": [
        {
          "output_type": "execute_result",
          "data": {
            "application/vnd.google.colaboratory.intrinsic+json": {
              "type": "string"
            },
            "text/plain": [
              "'this is blockwise comment similiar to /* c style */ but it ecohs'"
            ]
          },
          "metadata": {
            "tags": []
          },
          "execution_count": 13
        }
      ]
    },
    {
      "cell_type": "markdown",
      "metadata": {
        "id": "vQlvdCzqAmlW"
      },
      "source": [
        "# Example 1:\n",
        "\n",
        "Write a program that takes three numbers and prints their sum. Every number is given on a separate line. "
      ]
    },
    {
      "cell_type": "code",
      "metadata": {
        "colab": {
          "base_uri": "https://localhost:8080/"
        },
        "id": "tCAFa_VkAmlZ",
        "outputId": "048737f3-ba90-4523-82db-05eaef33ae6b"
      },
      "source": [
        "a = int(input())\n",
        "b = int(input())\n",
        "c = int(input())\n",
        "\n",
        "print(a + b + c)"
      ],
      "execution_count": null,
      "outputs": [
        {
          "output_type": "stream",
          "text": [
            "10\n",
            "20\n",
            "30\n",
            "60\n"
          ],
          "name": "stdout"
        }
      ]
    },
    {
      "cell_type": "markdown",
      "metadata": {
        "id": "OO2yRFTKAmlb"
      },
      "source": [
        "# Example 2:\n",
        "Given the integer N - the number of minutes that is passed since midnight - how many hours and minutes are displayed on the 24h digital clock?\n",
        "The program should print two numbers: the number of hours (between 0 and 23) and the number of minutes (between 0 and 59).\n",
        "\n",
        "For example, if N = 150, then 150 minutes have passed since midnight - i.e. now is 2:30 am. So the program should print 2 30.\n",
        "\n"
      ]
    },
    {
      "cell_type": "code",
      "metadata": {
        "colab": {
          "base_uri": "https://localhost:8080/"
        },
        "id": "Aj32btDQAmld",
        "outputId": "cf0d48a8-171e-4156-e6b7-7c68e5a7af8b"
      },
      "source": [
        "N=eval(input(\"enter n\"))\n",
        "H=N//60\n",
        "M=N%60 \n",
        "H=H%24\n",
        "print (\"time is=\",H,\":\",M)"
      ],
      "execution_count": null,
      "outputs": [
        {
          "output_type": "stream",
          "text": [
            "enter n180\n",
            "time is= 3 : 0\n"
          ],
          "name": "stdout"
        }
      ]
    },
    {
      "cell_type": "markdown",
      "metadata": {
        "id": "PATLMXDbAmlg"
      },
      "source": [
        "# Example 3:\n",
        "N students take K apples (where K>N) and distribute them among each other evenly. The remaining (the undivisible) part remains in the basket. How many apples will each single student get? How many apples will remain in the basket?"
      ]
    },
    {
      "cell_type": "code",
      "metadata": {
        "colab": {
          "base_uri": "https://localhost:8080/"
        },
        "id": "kfbTauo7Amlh",
        "outputId": "de03b3a5-8d2a-485a-bbfb-7408087b9d7a"
      },
      "source": [
        "N=int(input(\"enter no of students\"))\n",
        "K=int(input(\"enter no of apples\"))\n",
        "D=K//N\n",
        "R=K%N\n",
        "print(\"total no of students={},\\\n",
        "each student got {} no of apples, \\\n",
        "still {} no of apples remain on the basket\".format(N,D,R))"
      ],
      "execution_count": null,
      "outputs": [
        {
          "output_type": "stream",
          "text": [
            "enter no of students120\n",
            "enter no of apples160\n",
            "total no of students=120,each student got 1 no of apples, still 40 no of apples remain on the basket\n"
          ],
          "name": "stdout"
        }
      ]
    },
    {
      "cell_type": "markdown",
      "metadata": {
        "id": "ck5jXakgC2vV"
      },
      "source": [
        "# **Example 4:** Finding roots of a quadratic equation"
      ]
    },
    {
      "cell_type": "code",
      "metadata": {
        "colab": {
          "base_uri": "https://localhost:8080/"
        },
        "id": "Tu3l1A0hAmlj",
        "outputId": "f5dbdd3b-2223-4e98-cd8c-9e1437a3fa2f"
      },
      "source": [
        "import math\n",
        "a=eval(input('a'))\n",
        "b=eval(input('b'))\n",
        "c=eval(input('c'))\n",
        "d=(((b**2)-4*a*c))\n",
        "print (d)\n",
        "e=math.sqrt(abs(d))\n",
        "x1=(-b+e)/(2*a)\n",
        "x2=(-b-e)/(2*a)\n",
        "print(\"roots of the equation are {} , {}\".format(x1,x2))\n"
      ],
      "execution_count": null,
      "outputs": [
        {
          "output_type": "stream",
          "text": [
            "a20\n",
            "b30\n",
            "c60\n",
            "-3900\n",
            "roots of the equation are 0.8112494995995995 , -2.3112494995995996\n"
          ],
          "name": "stdout"
        }
      ]
    },
    {
      "cell_type": "markdown",
      "metadata": {
        "id": "cSFpIogQAmlk"
      },
      "source": [
        "# Example 5:\n",
        "Write a program that greets the user by printing the word \"Hello\", a comma, the name of the user and an exclamation mark after it. See the examples below.\n",
        "ex:\n",
        "    input='Mr. President'\n",
        "    \n",
        "    \n",
        "    Hello, Mr. President!"
      ]
    },
    {
      "cell_type": "code",
      "metadata": {
        "id": "umVqILW2Amll",
        "colab": {
          "base_uri": "https://localhost:8080/"
        },
        "outputId": "4ca40434-83f1-4d4d-a9ad-8957b59495b7"
      },
      "source": [
        "n=input()\n",
        "k=n+'!'\n",
        "print ('Hello,',k)"
      ],
      "execution_count": null,
      "outputs": [
        {
          "output_type": "stream",
          "text": [
            "President\n",
            "Hello, President!\n"
          ],
          "name": "stdout"
        }
      ]
    },
    {
      "cell_type": "markdown",
      "metadata": {
        "id": "zisNaE-BDQcZ"
      },
      "source": [
        "### **Control statements**"
      ]
    },
    {
      "cell_type": "markdown",
      "metadata": {
        "id": "QbuwBjbPCH2C"
      },
      "source": [
        "# Example 6:\n",
        "Given the two integers, print the least of them."
      ]
    },
    {
      "cell_type": "code",
      "metadata": {
        "colab": {
          "base_uri": "https://localhost:8080/"
        },
        "id": "OQq-oEe2CH2E",
        "outputId": "74d86bd0-505c-41d5-a9ad-02ea0956efbb"
      },
      "source": [
        "a=int(input())\n",
        "b=int(input())\n",
        "if a<b:\n",
        "    print (a)\n",
        "else:\n",
        "    print (b)"
      ],
      "execution_count": null,
      "outputs": [
        {
          "output_type": "stream",
          "text": [
            "20\n",
            "30\n",
            "20\n"
          ],
          "name": "stdout"
        }
      ]
    },
    {
      "cell_type": "markdown",
      "metadata": {
        "id": "I2IkC8bND6Rt"
      },
      "source": [
        "## **Loops**"
      ]
    },
    {
      "cell_type": "markdown",
      "metadata": {
        "id": "pVv2sLCiCH2m"
      },
      "source": [
        "# Examplle 7:\n",
        "Write a program to compute 1/2+2/3+3/4+...+n/n+1 with a given n input by console (n>0).\n"
      ]
    },
    {
      "cell_type": "code",
      "metadata": {
        "id": "Cvizhq07CH2n",
        "colab": {
          "base_uri": "https://localhost:8080/"
        },
        "outputId": "32eb8921-a2f1-412a-9673-043eb2998237"
      },
      "source": [
        "n=int(input())\n",
        "res=0\n",
        "for i in range(1,n+1):\n",
        "    res+=float(float(i)/i+1)\n",
        "print (res)"
      ],
      "execution_count": null,
      "outputs": [
        {
          "output_type": "stream",
          "text": [
            "20\n",
            "40.0\n"
          ],
          "name": "stdout"
        }
      ]
    },
    {
      "cell_type": "markdown",
      "metadata": {
        "id": "oyZbY6VmEjzg"
      },
      "source": [
        "### **Basics of NumPy**"
      ]
    },
    {
      "cell_type": "markdown",
      "metadata": {
        "id": "doyam5b8tXzL"
      },
      "source": [
        "# **Importing Numpy Package: refer to numpy documentation (https://numpy.org/doc/stable/) for more information.**\r\n"
      ]
    },
    {
      "cell_type": "code",
      "metadata": {
        "id": "myRwtXwJACZF"
      },
      "source": [
        "import numpy as np"
      ],
      "execution_count": null,
      "outputs": []
    },
    {
      "cell_type": "markdown",
      "metadata": {
        "id": "2LCnx6p8tyf7"
      },
      "source": [
        "Creating 1D array\r\n"
      ]
    },
    {
      "cell_type": "code",
      "metadata": {
        "id": "GCBZnUF0Dm8G"
      },
      "source": [
        "oneDimensionalData=np.array([1, 2, 3, 4, 5, 6, 7, 8, 9])"
      ],
      "execution_count": null,
      "outputs": []
    },
    {
      "cell_type": "markdown",
      "metadata": {
        "id": "vEQeqRHet3B9"
      },
      "source": [
        "Printing the size or shape of the array"
      ]
    },
    {
      "cell_type": "code",
      "metadata": {
        "colab": {
          "base_uri": "https://localhost:8080/"
        },
        "id": "xptCjbAADy3r",
        "outputId": "a41c14c8-3fba-49ff-da40-265d3ef7c26c"
      },
      "source": [
        "print(oneDimensionalData.shape)"
      ],
      "execution_count": null,
      "outputs": [
        {
          "output_type": "stream",
          "text": [
            "(9,)\n"
          ],
          "name": "stdout"
        }
      ]
    },
    {
      "cell_type": "code",
      "metadata": {
        "id": "Ar-IqQDIDWLY",
        "colab": {
          "base_uri": "https://localhost:8080/"
        },
        "outputId": "84d10483-f193-428f-8593-39938a5af45a"
      },
      "source": [
        "one_R=oneDimensionalData.reshape([1,9])\r\n",
        "one_R.shape\r\n",
        "one_R"
      ],
      "execution_count": null,
      "outputs": [
        {
          "output_type": "execute_result",
          "data": {
            "text/plain": [
              "array([[1, 2, 3, 4, 5, 6, 7, 8, 9]])"
            ]
          },
          "metadata": {
            "tags": []
          },
          "execution_count": 27
        }
      ]
    },
    {
      "cell_type": "markdown",
      "metadata": {
        "id": "FHz1jDC1uaKw"
      },
      "source": [
        "Accessing the elements of 1D array\r\n",
        "\r\n",
        "*   index start with 0\r\n",
        "*   syntax arrray_name[index]\r\n",
        "\r\n",
        "\r\n"
      ]
    },
    {
      "cell_type": "code",
      "metadata": {
        "colab": {
          "base_uri": "https://localhost:8080/"
        },
        "id": "7VTxALafuEPP",
        "outputId": "7339b39a-7138-4e74-e22f-0673486fcdd1"
      },
      "source": [
        "print (oneDimensionalData[0])"
      ],
      "execution_count": null,
      "outputs": [
        {
          "output_type": "stream",
          "text": [
            "1\n"
          ],
          "name": "stdout"
        }
      ]
    },
    {
      "cell_type": "markdown",
      "metadata": {
        "id": "mAM8ZfwruvrC"
      },
      "source": [
        "Creating 2D array\r\n"
      ]
    },
    {
      "cell_type": "code",
      "metadata": {
        "id": "gYe4yM8lEP-5"
      },
      "source": [
        "twoDimensionalArray = np.array([[1,2,3],[4,5,6],[7,8,9]])\r\n"
      ],
      "execution_count": null,
      "outputs": []
    },
    {
      "cell_type": "markdown",
      "metadata": {
        "id": "9KGnyMcEvpT9"
      },
      "source": [
        "Printing the size or shape of the array"
      ]
    },
    {
      "cell_type": "code",
      "metadata": {
        "colab": {
          "base_uri": "https://localhost:8080/"
        },
        "id": "RiQX8XhVEfsn",
        "outputId": "6375252e-b645-4025-cda2-d36aa1a9b536"
      },
      "source": [
        "twoDimensionalArray.shape"
      ],
      "execution_count": null,
      "outputs": [
        {
          "output_type": "execute_result",
          "data": {
            "text/plain": [
              "(3, 3)"
            ]
          },
          "metadata": {
            "tags": []
          },
          "execution_count": 31
        }
      ]
    },
    {
      "cell_type": "markdown",
      "metadata": {
        "id": "IM0IwICfv7QW"
      },
      "source": [
        "Printing contents of 2D array"
      ]
    },
    {
      "cell_type": "code",
      "metadata": {
        "colab": {
          "base_uri": "https://localhost:8080/"
        },
        "id": "zXIVoxJzwT39",
        "outputId": "7426233c-5591-4288-9369-029ac1d1cac7"
      },
      "source": [
        "print(twoDimensionalArray)"
      ],
      "execution_count": null,
      "outputs": [
        {
          "output_type": "stream",
          "text": [
            "[[1 2 3]\n",
            " [4 5 6]\n",
            " [7 8 9]]\n"
          ],
          "name": "stdout"
        }
      ]
    },
    {
      "cell_type": "markdown",
      "metadata": {
        "id": "Xb8PeGmWvwTP"
      },
      "source": [
        "Accessing the elements of 2D array\r\n",
        "\r\n",
        "*   index start with 0\r\n",
        "*   syntax arrray_name[index_row,index_column]\r\n",
        "\r\n",
        "\r\n"
      ]
    },
    {
      "cell_type": "code",
      "metadata": {
        "colab": {
          "base_uri": "https://localhost:8080/"
        },
        "id": "wXRz_EPlEihs",
        "outputId": "b46662fe-7c5c-4513-ae6e-e2e3f2ed76bb"
      },
      "source": [
        "print(twoDimensionalArray[2,1])"
      ],
      "execution_count": null,
      "outputs": [
        {
          "output_type": "stream",
          "text": [
            "8\n"
          ],
          "name": "stdout"
        }
      ]
    },
    {
      "cell_type": "code",
      "metadata": {
        "colab": {
          "base_uri": "https://localhost:8080/"
        },
        "id": "5ZsIboK1vVfT",
        "outputId": "ac384fd3-0825-4d87-9671-63ae1f6b0fbc"
      },
      "source": [
        "print(twoDimensionalArray[1,0])"
      ],
      "execution_count": null,
      "outputs": [
        {
          "output_type": "stream",
          "text": [
            "4\n"
          ],
          "name": "stdout"
        }
      ]
    },
    {
      "cell_type": "markdown",
      "metadata": {
        "id": "N1tnTluTwcYR"
      },
      "source": [
        "Accessing the contents of the numpy array using slicing and striding"
      ]
    },
    {
      "cell_type": "code",
      "metadata": {
        "colab": {
          "base_uri": "https://localhost:8080/"
        },
        "id": "aYKhJz40SgSg",
        "outputId": "98945147-ce64-44f4-c8d0-21355e48ffbb"
      },
      "source": [
        "oneDimensionalData"
      ],
      "execution_count": null,
      "outputs": [
        {
          "output_type": "execute_result",
          "data": {
            "text/plain": [
              "array([1, 2, 3, 4, 5, 6, 7, 8, 9])"
            ]
          },
          "metadata": {
            "tags": []
          },
          "execution_count": 36
        }
      ]
    },
    {
      "cell_type": "code",
      "metadata": {
        "colab": {
          "base_uri": "https://localhost:8080/"
        },
        "id": "gTWcStljFMBC",
        "outputId": "002106de-65b0-40b0-d555-01db846560b6"
      },
      "source": [
        "print(oneDimensionalData[1:4])"
      ],
      "execution_count": null,
      "outputs": [
        {
          "output_type": "stream",
          "text": [
            "[2 3 4]\n"
          ],
          "name": "stdout"
        }
      ]
    },
    {
      "cell_type": "code",
      "metadata": {
        "colab": {
          "base_uri": "https://localhost:8080/"
        },
        "id": "8ww7fvqOw3lg",
        "outputId": "0c57509b-6477-4c1d-a5f2-fdc1446321be"
      },
      "source": [
        "print(oneDimensionalData[0:9:2])"
      ],
      "execution_count": null,
      "outputs": [
        {
          "output_type": "stream",
          "text": [
            "[1 3 5 7 9]\n"
          ],
          "name": "stdout"
        }
      ]
    },
    {
      "cell_type": "code",
      "metadata": {
        "colab": {
          "base_uri": "https://localhost:8080/"
        },
        "id": "BhJU2UK7yODW",
        "outputId": "604c8f5b-d10f-4ba6-8fe2-ad2c291b2268"
      },
      "source": [
        "print(twoDimensionalArray)"
      ],
      "execution_count": null,
      "outputs": [
        {
          "output_type": "stream",
          "text": [
            "[[1 2 3]\n",
            " [4 5 6]\n",
            " [7 8 9]]\n"
          ],
          "name": "stdout"
        }
      ]
    },
    {
      "cell_type": "code",
      "metadata": {
        "colab": {
          "base_uri": "https://localhost:8080/"
        },
        "id": "S5d5fsaqFhLk",
        "outputId": "25047aed-b221-4647-e365-cace4e93491c"
      },
      "source": [
        "print(twoDimensionalArray[::2,::2])"
      ],
      "execution_count": null,
      "outputs": [
        {
          "output_type": "stream",
          "text": [
            "[[1 3]\n",
            " [7 9]]\n"
          ],
          "name": "stdout"
        }
      ]
    },
    {
      "cell_type": "code",
      "metadata": {
        "colab": {
          "base_uri": "https://localhost:8080/"
        },
        "id": "lfrzVYXfE665",
        "outputId": "62ecb02e-0cc7-454e-942a-e495c9e440d3"
      },
      "source": [
        "arr1 = np.array([1, 2, 3])\r\n",
        "arr2 = np.array([4, 5, 6])\r\n",
        "\r\n",
        "# Concatenating Arrays Together\r\n",
        "arr = np.concatenate((arr1, arr2))\r\n",
        "\r\n",
        "print(arr)"
      ],
      "execution_count": null,
      "outputs": [
        {
          "output_type": "stream",
          "text": [
            "[1 2 3 4 5 6]\n"
          ],
          "name": "stdout"
        }
      ]
    },
    {
      "cell_type": "code",
      "metadata": {
        "id": "QawwDwdrFIu9"
      },
      "source": [
        ""
      ],
      "execution_count": null,
      "outputs": []
    },
    {
      "cell_type": "markdown",
      "metadata": {
        "id": "Tf1lShoby42H"
      },
      "source": [
        "Creating an Numpy array with floating point data"
      ]
    },
    {
      "cell_type": "code",
      "metadata": {
        "id": "Cs2Qv-rCy-rp"
      },
      "source": [
        "Nf_array1=np.array([3.12,4.45,234.543,.23,523.234,2.2],'float16')"
      ],
      "execution_count": null,
      "outputs": []
    },
    {
      "cell_type": "code",
      "metadata": {
        "colab": {
          "base_uri": "https://localhost:8080/"
        },
        "id": "oWCqqbV6zPrY",
        "outputId": "2aa3c50b-6bad-4bdf-95de-7d2fa71b1f19"
      },
      "source": [
        "print(Nf_array1)"
      ],
      "execution_count": null,
      "outputs": [
        {
          "output_type": "stream",
          "text": [
            "[3.119e+00 4.449e+00 2.345e+02 2.300e-01 5.230e+02 2.199e+00]\n"
          ],
          "name": "stdout"
        }
      ]
    },
    {
      "cell_type": "code",
      "metadata": {
        "colab": {
          "base_uri": "https://localhost:8080/"
        },
        "id": "2-8u80-OzR6L",
        "outputId": "a546e308-2bfa-4e39-bd09-ab2788f6b50c"
      },
      "source": [
        "print(Nf_array1.dtype)"
      ],
      "execution_count": null,
      "outputs": [
        {
          "output_type": "stream",
          "text": [
            "float16\n"
          ],
          "name": "stdout"
        }
      ]
    },
    {
      "cell_type": "code",
      "metadata": {
        "id": "SX4rV9QhzYOT"
      },
      "source": [
        "Nf_array2=np.array([2.324,432.243,12312.2,.33,5.4],'float32')"
      ],
      "execution_count": null,
      "outputs": []
    },
    {
      "cell_type": "code",
      "metadata": {
        "colab": {
          "base_uri": "https://localhost:8080/"
        },
        "id": "CoAYUpRuzjRF",
        "outputId": "d4b5ce3f-7837-405e-9176-e440db3a0556"
      },
      "source": [
        "print(Nf_array2)"
      ],
      "execution_count": null,
      "outputs": [
        {
          "output_type": "stream",
          "text": [
            "[2.32400e+00 4.32243e+02 1.23122e+04 3.30000e-01 5.40000e+00]\n"
          ],
          "name": "stdout"
        }
      ]
    },
    {
      "cell_type": "code",
      "metadata": {
        "colab": {
          "base_uri": "https://localhost:8080/"
        },
        "id": "fOc-1nWjzotI",
        "outputId": "fa9ce944-550b-4dad-ad9d-b1ebf3a3c8ff"
      },
      "source": [
        "print(Nf_array2.dtype)"
      ],
      "execution_count": null,
      "outputs": [
        {
          "output_type": "stream",
          "text": [
            "float32\n"
          ],
          "name": "stdout"
        }
      ]
    },
    {
      "cell_type": "markdown",
      "metadata": {
        "id": "ybTwmgh80epF"
      },
      "source": [
        "np.zeros(shape) will create an array filled with 0 values with the specified shape. The default dtype is float64."
      ]
    },
    {
      "cell_type": "code",
      "metadata": {
        "colab": {
          "base_uri": "https://localhost:8080/"
        },
        "id": "2_ux8Llu0f-b",
        "outputId": "2ed61bab-91c8-4576-a9ff-eb915bc0f671"
      },
      "source": [
        "np.zeros((4, 3))"
      ],
      "execution_count": null,
      "outputs": [
        {
          "output_type": "execute_result",
          "data": {
            "text/plain": [
              "array([[0., 0., 0.],\n",
              "       [0., 0., 0.],\n",
              "       [0., 0., 0.],\n",
              "       [0., 0., 0.]])"
            ]
          },
          "metadata": {
            "tags": []
          },
          "execution_count": 46
        }
      ]
    },
    {
      "cell_type": "code",
      "metadata": {
        "colab": {
          "base_uri": "https://localhost:8080/"
        },
        "id": "VAK9sa0hTgC_",
        "outputId": "8f32ee1f-01ad-4874-e057-b43406bfd709"
      },
      "source": [
        "np.zeros(10)"
      ],
      "execution_count": null,
      "outputs": [
        {
          "output_type": "execute_result",
          "data": {
            "text/plain": [
              "array([0., 0., 0., 0., 0., 0., 0., 0., 0., 0.])"
            ]
          },
          "metadata": {
            "tags": []
          },
          "execution_count": 47
        }
      ]
    },
    {
      "cell_type": "markdown",
      "metadata": {
        "id": "CEvcetvN0t5W"
      },
      "source": [
        "ones(shape) will create an array filled with 1 values. It is identical to zeros in all other respects."
      ]
    },
    {
      "cell_type": "code",
      "metadata": {
        "colab": {
          "base_uri": "https://localhost:8080/"
        },
        "id": "FrpMH_eO0niU",
        "outputId": "731a2902-625c-455a-fff6-54f825f128f9"
      },
      "source": [
        "np.ones((2,2))"
      ],
      "execution_count": null,
      "outputs": [
        {
          "output_type": "execute_result",
          "data": {
            "text/plain": [
              "array([[1., 1.],\n",
              "       [1., 1.]])"
            ]
          },
          "metadata": {
            "tags": []
          },
          "execution_count": 48
        }
      ]
    },
    {
      "cell_type": "markdown",
      "metadata": {
        "id": "P9P1W0jh044o"
      },
      "source": [
        "np.arange() will create arrays with regularly incrementing values. Refer documentation for using arrange on various cases"
      ]
    },
    {
      "cell_type": "code",
      "metadata": {
        "colab": {
          "base_uri": "https://localhost:8080/"
        },
        "id": "yuBLtauO0x55",
        "outputId": "9e62d13c-e9d7-436b-8e74-b0da2d95f4ea"
      },
      "source": [
        "np.arange(10)\r\n"
      ],
      "execution_count": null,
      "outputs": [
        {
          "output_type": "execute_result",
          "data": {
            "text/plain": [
              "array([0, 1, 2, 3, 4, 5, 6, 7, 8, 9])"
            ]
          },
          "metadata": {
            "tags": []
          },
          "execution_count": 49
        }
      ]
    },
    {
      "cell_type": "code",
      "metadata": {
        "colab": {
          "base_uri": "https://localhost:8080/"
        },
        "id": "Qquj9b081Hzp",
        "outputId": "eb7342be-3209-4b75-fdaa-5d584d04444e"
      },
      "source": [
        "np.arange(2, 10, dtype=float)"
      ],
      "execution_count": null,
      "outputs": [
        {
          "output_type": "execute_result",
          "data": {
            "text/plain": [
              "array([2., 3., 4., 5., 6., 7., 8., 9.])"
            ]
          },
          "metadata": {
            "tags": []
          },
          "execution_count": 50
        }
      ]
    },
    {
      "cell_type": "code",
      "metadata": {
        "colab": {
          "base_uri": "https://localhost:8080/"
        },
        "id": "149sdehN1K43",
        "outputId": "27aa9d18-8860-4887-fe22-06eba1088e58"
      },
      "source": [
        "np.arange(2, 3, 0.1)"
      ],
      "execution_count": null,
      "outputs": [
        {
          "output_type": "execute_result",
          "data": {
            "text/plain": [
              "array([2. , 2.1, 2.2, 2.3, 2.4, 2.5, 2.6, 2.7, 2.8, 2.9])"
            ]
          },
          "metadata": {
            "tags": []
          },
          "execution_count": 51
        }
      ]
    },
    {
      "cell_type": "markdown",
      "metadata": {
        "id": "FaCTfstW1j6z"
      },
      "source": [
        "np.linspace() will create arrays with a specified number of elements, and spaced equally between the specified beginning and end values. [syntax np.linspace(begin_value,end_value,no_ele)]"
      ]
    },
    {
      "cell_type": "code",
      "metadata": {
        "colab": {
          "base_uri": "https://localhost:8080/"
        },
        "id": "OGdgQectUNKa",
        "outputId": "42c0c4c3-c014-483c-9c46-08444ed45c85"
      },
      "source": [
        "np.linspace(2,3,10)"
      ],
      "execution_count": null,
      "outputs": [
        {
          "output_type": "execute_result",
          "data": {
            "text/plain": [
              "array([2.        , 2.11111111, 2.22222222, 2.33333333, 2.44444444,\n",
              "       2.55555556, 2.66666667, 2.77777778, 2.88888889, 3.        ])"
            ]
          },
          "metadata": {
            "tags": []
          },
          "execution_count": 52
        }
      ]
    },
    {
      "cell_type": "code",
      "metadata": {
        "colab": {
          "base_uri": "https://localhost:8080/"
        },
        "id": "BOFC2Mgk1yx-",
        "outputId": "df6162dc-0ff2-4b88-8324-e82ec94aef19"
      },
      "source": [
        "np.linspace(3,6,6)"
      ],
      "execution_count": null,
      "outputs": [
        {
          "output_type": "execute_result",
          "data": {
            "text/plain": [
              "array([3. , 3.6, 4.2, 4.8, 5.4, 6. ])"
            ]
          },
          "metadata": {
            "tags": []
          },
          "execution_count": 53
        }
      ]
    },
    {
      "cell_type": "code",
      "metadata": {
        "colab": {
          "base_uri": "https://localhost:8080/"
        },
        "id": "G228Gz4sE8t0",
        "outputId": "9383d0e1-dca4-44a1-bb1e-c6b6c228b2cf"
      },
      "source": [
        "#skip this line\r\n",
        "#below command creates the numpy array with 20 elements\r\n",
        "np.arange(20)"
      ],
      "execution_count": null,
      "outputs": [
        {
          "output_type": "execute_result",
          "data": {
            "text/plain": [
              "array([ 0,  1,  2,  3,  4,  5,  6,  7,  8,  9, 10, 11, 12, 13, 14, 15, 16,\n",
              "       17, 18, 19])"
            ]
          },
          "metadata": {
            "tags": []
          },
          "execution_count": 54
        }
      ]
    },
    {
      "cell_type": "code",
      "metadata": {
        "id": "1qPyS2fXUaTz"
      },
      "source": [
        ""
      ],
      "execution_count": null,
      "outputs": []
    }
  ]
}