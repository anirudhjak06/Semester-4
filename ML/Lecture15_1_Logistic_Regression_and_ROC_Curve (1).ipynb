{
  "nbformat": 4,
  "nbformat_minor": 0,
  "metadata": {
    "colab": {
      "name": "Logistic_Regression_and_ROC_Curve.ipynb",
      "provenance": []
    },
    "kernelspec": {
      "name": "python3",
      "display_name": "Python 3"
    }
  },
  "cells": [
    {
      "cell_type": "markdown",
      "metadata": {
        "id": "hN7hw18GIOCI"
      },
      "source": [
        "#Logistic Regression\n",
        "Credits: Machine Learning Mastery\n",
        "-\n",
        "Jason B."
      ]
    },
    {
      "cell_type": "markdown",
      "metadata": {
        "id": "smcHS0to4LUX"
      },
      "source": [
        "#Import Libraries and Data\n",
        "\n"
      ]
    },
    {
      "cell_type": "code",
      "metadata": {
        "id": "87mhZ3pTBL8t"
      },
      "source": [
        "from sklearn.linear_model import LogisticRegression\n",
        "from sklearn.model_selection import train_test_split\n",
        "from sklearn.metrics import roc_curve\n",
        "from sklearn.metrics import roc_auc_score\n",
        "from matplotlib import pyplot\n",
        "from sklearn.datasets import load_breast_cancer\n",
        "X, y = load_breast_cancer(return_X_y=True)\n",
        "trainX, testX, trainy, testy = train_test_split(X, y, test_size=0.2, random_state=2)\n"
      ],
      "execution_count": null,
      "outputs": []
    },
    {
      "cell_type": "code",
      "metadata": {
        "colab": {
          "base_uri": "https://localhost:8080/"
        },
        "id": "RZH4rNzFL5QJ",
        "outputId": "a4237e15-4511-4f04-d35e-c1c83da926cb"
      },
      "source": [
        "print(X.shape)\n",
        "print(trainX.shape)\n",
        "print(trainy.shape)\n",
        "print(testX.shape)\n",
        "print(testy.shape)"
      ],
      "execution_count": null,
      "outputs": [
        {
          "output_type": "stream",
          "text": [
            "(569, 30)\n",
            "(341, 30)\n",
            "(341,)\n",
            "(228, 30)\n",
            "(228,)\n"
          ],
          "name": "stdout"
        }
      ]
    },
    {
      "cell_type": "code",
      "metadata": {
        "colab": {
          "base_uri": "https://localhost:8080/"
        },
        "id": "guqDKMTvMjNk",
        "outputId": "46ffc1d0-8567-4eb4-a0fd-9fcfe24dd465"
      },
      "source": [
        "print(trainX)"
      ],
      "execution_count": null,
      "outputs": [
        {
          "output_type": "stream",
          "text": [
            "[[1.603e+01 1.551e+01 1.058e+02 ... 1.981e-01 3.019e-01 9.124e-02]\n",
            " [1.029e+01 2.761e+01 6.567e+01 ... 9.127e-02 2.226e-01 8.283e-02]\n",
            " [1.708e+01 2.715e+01 1.112e+02 ... 1.555e-01 3.010e-01 9.060e-02]\n",
            " ...\n",
            " [1.246e+01 1.283e+01 7.883e+01 ... 2.680e-02 2.280e-01 7.028e-02]\n",
            " [1.234e+01 1.227e+01 7.894e+01 ... 1.070e-01 3.110e-01 7.592e-02]\n",
            " [1.747e+01 2.468e+01 1.161e+02 ... 1.721e-01 2.160e-01 9.300e-02]]\n"
          ],
          "name": "stdout"
        }
      ]
    },
    {
      "cell_type": "code",
      "metadata": {
        "colab": {
          "base_uri": "https://localhost:8080/"
        },
        "id": "qfou4t_qM1rv",
        "outputId": "8818719d-a18f-4061-81bb-1b0582aa1993"
      },
      "source": [
        "print(trainy)"
      ],
      "execution_count": null,
      "outputs": [
        {
          "output_type": "stream",
          "text": [
            "[0 1 0 1 1 0 1 0 1 0 1 1 1 0 0 0 1 1 0 1 1 1 1 1 1 0 1 1 1 0 1 0 0 0 1 1 0\n",
            " 0 1 1 0 1 1 1 1 0 0 1 1 1 0 1 1 1 0 1 0 1 1 1 1 1 1 0 0 1 1 0 1 1 0 0 0 1\n",
            " 1 0 1 0 1 0 0 0 0 1 1 0 1 0 1 1 0 1 1 0 0 0 1 1 1 0 1 0 1 1 1 0 0 0 1 1 0\n",
            " 0 1 1 0 1 1 1 0 0 1 1 0 0 0 0 1 1 1 1 1 1 1 1 0 0 1 1 1 1 1 0 1 0 1 1 1 1\n",
            " 1 1 0 1 1 0 1 1 1 1 1 0 1 1 0 1 0 0 1 1 0 0 1 1 1 1 1 0 0 1 1 1 1 1 1 0 0\n",
            " 1 1 1 1 1 0 1 1 1 1 1 1 1 1 1 0 1 1 0 1 0 0 1 1 1 1 1 1 0 0 1 1 1 1 0 0 0\n",
            " 1 0 1 1 1 1 1 1 0 0 0 1 0 1 0 1 1 1 0 0 1 0 0 1 1 1 1 1 0 1 1 1 1 0 1 1 1\n",
            " 0 1 1 1 0 1 1 0 1 0 1 0 1 0 1 1 1 1 0 1 1 1 1 0 0 0 1 1 0 1 0 0 0 1 0 0 1\n",
            " 0 1 1 0 1 1 1 0 1 0 1 0 1 1 1 0 0 1 0 1 0 1 1 0 0 1 1 1 1 1 1 1 1 1 0 0 0\n",
            " 1 0 1 1 1 1 1 0]\n"
          ],
          "name": "stdout"
        }
      ]
    },
    {
      "cell_type": "markdown",
      "metadata": {
        "id": "yVOd9Lzd4Q5_"
      },
      "source": [
        "#Train and Test the model"
      ]
    },
    {
      "cell_type": "code",
      "metadata": {
        "id": "jbCexkDXEbKW"
      },
      "source": [
        "# fit a model\n",
        "model = LogisticRegression(max_iter=5000)\n",
        "model.fit(trainX, trainy) #used for training the model or fitting the model on train set parameters: train data and train labels\n",
        "# predict probabilities\n",
        "lr_probs = model.predict_proba(testX) #this will predict or test the model on test data and returns the prediction probablities.\n",
        "test_pred_labels=model.predict(testX) #this will predict or test the model on test data and returns the class labels."
      ],
      "execution_count": null,
      "outputs": []
    },
    {
      "cell_type": "markdown",
      "metadata": {
        "id": "Obp0TuA-4Yj4"
      },
      "source": [
        "#Calculate ROC scores"
      ]
    },
    {
      "cell_type": "code",
      "metadata": {
        "colab": {
          "base_uri": "https://localhost:8080/"
        },
        "id": "rBz3VE_B4krO",
        "outputId": "72243160-3dac-460b-f75d-3d4b3c4ba6b1"
      },
      "source": [
        "# keep probabilities for the positive outcome only\n",
        "lr_probs = lr_probs[:, 1]\n",
        "\n",
        "# calculate scores\n",
        "lr_auc = roc_auc_score(testy, lr_probs)\n",
        "# summarize scores\n",
        "print('Logistic: ROC AUC=%.3f' % (lr_auc))"
      ],
      "execution_count": null,
      "outputs": [
        {
          "output_type": "stream",
          "text": [
            "Logistic: ROC AUC=0.984\n"
          ],
          "name": "stdout"
        }
      ]
    },
    {
      "cell_type": "markdown",
      "metadata": {
        "id": "LMXRz_tq4qzN"
      },
      "source": [
        "#Plot ROC Curve"
      ]
    },
    {
      "cell_type": "code",
      "metadata": {
        "id": "CpaCIVi4BiLu",
        "colab": {
          "base_uri": "https://localhost:8080/",
          "height": 279
        },
        "outputId": "d407b966-70e6-4791-e343-2a91eb4282c2"
      },
      "source": [
        "\n",
        "# calculate roc curves\n",
        "lr_fpr, lr_tpr, _ = roc_curve(testy, lr_probs)\n",
        "# plot the roc curve for the model\n",
        "pyplot.plot(lr_fpr, lr_tpr, marker='.', label='Logistic')\n",
        "# axis labels\n",
        "pyplot.xlabel('False Positive Rate')\n",
        "pyplot.ylabel('True Positive Rate')\n",
        "# show the legend\n",
        "pyplot.legend()\n",
        "# show the plot\n",
        "pyplot.show()"
      ],
      "execution_count": null,
      "outputs": [
        {
          "output_type": "display_data",
          "data": {
            "image/png": "[encoded data removed]",
            "text/plain": [
              "<Figure size 432x288 with 1 Axes>"
            ]
          },
          "metadata": {
            "tags": [],
            "needs_background": "light"
          }
        }
      ]
    },
    {
      "cell_type": "markdown",
      "metadata": {
        "id": "k3hleiTPH7dT"
      },
      "source": [
        "#PR Curve"
      ]
    },
    {
      "cell_type": "code",
      "metadata": {
        "id": "ec-yQTA18ACg"
      },
      "source": [
        "from sklearn.metrics import precision_recall_curve\n",
        "from sklearn.metrics import f1_score\n",
        "from sklearn.metrics import auc\n"
      ],
      "execution_count": null,
      "outputs": []
    },
    {
      "cell_type": "code",
      "metadata": {
        "colab": {
          "base_uri": "https://localhost:8080/",
          "height": 296
        },
        "id": "9IN90C2SG48E",
        "outputId": "8cd0cd32-c65a-4fa8-bf42-7483fac70012"
      },
      "source": [
        "yhat = model.predict(testX) #predicting labels (yhat) from test data\n",
        "lr_precision, lr_recall, thresholds = precision_recall_curve(testy, lr_probs)\n",
        "lr_f1, lr_auc = f1_score(testy, yhat), auc(lr_recall, lr_precision)\n",
        "# summarize scores\n",
        "print('Logistic: f1=%.3f auc=%.3f' % (lr_f1, lr_auc))\n",
        "# plot the precision-recall curve\n",
        "pyplot.plot(lr_recall, lr_precision, marker='.', label='Logistic')\n",
        "# axis labels\n",
        "pyplot.xlabel('Recall')\n",
        "pyplot.ylabel('Precision')\n",
        "# show the legend\n",
        "pyplot.legend()\n",
        "# show the plot\n",
        "pyplot.show()"
      ],
      "execution_count": null,
      "outputs": [
        {
          "output_type": "stream",
          "text": [
            "Logistic: f1=0.954 auc=0.989\n"
          ],
          "name": "stdout"
        },
        {
          "output_type": "display_data",
          "data": {
            "image/png": "[encoded data removed]",
            "text/plain": [
              "<Figure size 432x288 with 1 Axes>"
            ]
          },
          "metadata": {
            "tags": [],
            "needs_background": "light"
          }
        }
      ]
    },
    {
      "cell_type": "code",
      "metadata": {
        "id": "5aJrhOBaHVXA"
      },
      "source": [
        ""
      ],
      "execution_count": null,
      "outputs": []
    }
  ]
}