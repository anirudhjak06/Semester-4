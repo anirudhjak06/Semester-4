{
  "cells": [
    {
      "cell_type": "markdown",
      "metadata": {},
      "source": [
        "# **ML ASSIGNMENT - 3** \n",
        "# **Linear Regression**\n",
        "\n",
        "\n",
        "---"
      ]
    },
    {
      "cell_type": "markdown",
      "metadata": {},
      "source": [
        "This assignment was done by :\n",
        "\n",
        "---"
      ]
    },
    {
      "cell_type": "markdown",
      "metadata": {},
      "source": [
        "# **Anirudh Jakhotia**\n",
        "# **Roll No : S20190010007**"
      ]
    },
    {
      "cell_type": "markdown",
      "metadata": {},
      "source": [
        "## Imports"
      ]
    },
    {
      "cell_type": "code",
      "metadata": {},
      "source": [
        "import numpy as np\n",
        "import pandas as pd\n",
        "import matplotlib.pyplot as plt\n",
        "import seaborn as sns\n",
        "import sklearn\n",
        "from pandas import DataFrame\n",
        "%matplotlib inline"
      ],
      "outputs": [],
      "execution_count": null
    },
    {
      "cell_type": "markdown",
      "metadata": {},
      "source": [
        "## Loading of Data"
      ]
    },
    {
      "cell_type": "code",
      "metadata": {},
      "source": [
        "from sklearn.datasets import load_boston"
      ],
      "outputs": [],
      "execution_count": null
    },
    {
      "cell_type": "code",
      "metadata": {},
      "source": [
        "df = load_boston()"
      ],
      "outputs": [],
      "execution_count": null
    },
    {
      "cell_type": "code",
      "metadata": {},
      "source": [
        "dir(df)"
      ],
      "outputs": [],
      "execution_count": null
    },
    {
      "cell_type": "markdown",
      "metadata": {},
      "source": [
        "#Data Description"
      ]
    },
    {
      "cell_type": "code",
      "metadata": {},
      "source": [
        "print(df.DESCR)"
      ],
      "outputs": [],
      "execution_count": null
    },
    {
      "cell_type": "markdown",
      "metadata": {},
      "source": [
        "#Data Visualization"
      ]
    },
    {
      "cell_type": "code",
      "metadata": {},
      "source": [
        "print(df.feature_names)"
      ],
      "outputs": [],
      "execution_count": null
    },
    {
      "cell_type": "code",
      "metadata": {},
      "source": [
        "print(df.data)"
      ],
      "outputs": [],
      "execution_count": null
    },
    {
      "cell_type": "code",
      "metadata": {},
      "source": [
        "# Actual Prices in thousands\n",
        "print(df.target)"
      ],
      "outputs": [],
      "execution_count": null
    },
    {
      "cell_type": "markdown",
      "metadata": {},
      "source": [
        "## Correlation"
      ]
    },
    {
      "cell_type": "code",
      "metadata": {},
      "source": [
        "temp_dataset = pd.DataFrame(data=df.data, columns=df.feature_names)\n",
        "temp_dataset['PRICE'] = df.target"
      ],
      "outputs": [],
      "execution_count": null
    },
    {
      "cell_type": "code",
      "metadata": {},
      "source": [
        "temp_dataset.corr() # Pearson correlation coefficients"
      ],
      "outputs": [],
      "execution_count": null
    },
    {
      "cell_type": "code",
      "metadata": {},
      "source": [
        "temp_msk = np.zeros_like(temp_dataset.corr())\n",
        "temp_triangle_indexes = np.triu_indices_from(temp_msk)\n",
        "temp_msk[temp_triangle_indexes] = True"
      ],
      "outputs": [],
      "execution_count": null
    },
    {
      "cell_type": "markdown",
      "metadata": {},
      "source": [
        "# Exploratory Data Analysis"
      ]
    },
    {
      "cell_type": "markdown",
      "metadata": {},
      "source": [
        "## Heat Map"
      ]
    },
    {
      "cell_type": "code",
      "metadata": {},
      "source": [
        "plt.figure(figsize=(16, 10))\n",
        "sns.heatmap(data=temp_dataset.corr(), mask=temp_msk, annot=True, annot_kws={'size': 14}, vmin=-1.0, vmax=1.0, cmap=\"coolwarm\")\n",
        "sns.set_style('white')\n",
        "plt.xticks(fontsize=14)\n",
        "plt.yticks(fontsize=14)\n",
        "plt.show()"
      ],
      "outputs": [],
      "execution_count": null
    },
    {
      "cell_type": "markdown",
      "metadata": {},
      "source": [
        "## Pair Plot"
      ]
    },
    {
      "cell_type": "code",
      "metadata": {},
      "source": [
        "%%time\n",
        "\n",
        "sns.pairplot(temp_dataset, kind='reg', plot_kws={'line_kws': {'color': 'cyan'}})\n",
        "plt.show()"
      ],
      "outputs": [],
      "execution_count": null
    },
    {
      "cell_type": "markdown",
      "metadata": {},
      "source": [
        "## Printing columns of dataset"
      ]
    },
    {
      "cell_type": "code",
      "metadata": {},
      "source": [
        "temp_dataset.head()"
      ],
      "outputs": [],
      "execution_count": null
    },
    {
      "cell_type": "code",
      "metadata": {},
      "source": [
        "temp_dataset.tail()"
      ],
      "outputs": [],
      "execution_count": null
    },
    {
      "cell_type": "code",
      "metadata": {},
      "source": [
        "temp_dataset.count()"
      ],
      "outputs": [],
      "execution_count": null
    },
    {
      "cell_type": "code",
      "metadata": {},
      "source": [
        "temp_dataset.info()"
      ],
      "outputs": [],
      "execution_count": null
    },
    {
      "cell_type": "code",
      "metadata": {},
      "source": [
        "temp_dataset.describe()"
      ],
      "outputs": [],
      "execution_count": null
    },
    {
      "cell_type": "markdown",
      "metadata": {},
      "source": [
        "# Data Pre-processing"
      ]
    },
    {
      "cell_type": "code",
      "metadata": {},
      "source": [
        "pd.isnull(temp_dataset).any()"
      ],
      "outputs": [],
      "execution_count": null
    },
    {
      "cell_type": "code",
      "metadata": {},
      "source": [
        "X = temp_dataset.iloc[:, :-1].values\n",
        "y = temp_dataset.iloc[:, -1].values"
      ],
      "outputs": [],
      "execution_count": null
    },
    {
      "cell_type": "code",
      "metadata": {},
      "source": [
        "print(X)"
      ],
      "outputs": [],
      "execution_count": null
    },
    {
      "cell_type": "markdown",
      "metadata": {},
      "source": [
        "## Splitting the dataset into the Training and Test set"
      ]
    },
    {
      "cell_type": "code",
      "metadata": {},
      "source": [
        "from sklearn.model_selection import train_test_split\n",
        "X_train, X_test, y_train, y_test = train_test_split(X, y, test_size = 0.2, random_state = 10)"
      ],
      "outputs": [],
      "execution_count": null
    },
    {
      "cell_type": "markdown",
      "metadata": {},
      "source": [
        "## Performing Multiple Linear Regression model on the Training set"
      ]
    },
    {
      "cell_type": "code",
      "metadata": {},
      "source": [
        "from sklearn.linear_model import LinearRegression\n",
        "Linear_regressor = LinearRegression()\n",
        "Linear_regressor.fit(X_train, y_train)"
      ],
      "outputs": [],
      "execution_count": null
    },
    {
      "cell_type": "code",
      "metadata": {},
      "source": [
        "accuracy = Linear_regressor.score(X_test,y_test)\n",
        "print(\"Accuracy :\",accuracy*100,'%')"
      ],
      "outputs": [],
      "execution_count": null
    },
    {
      "cell_type": "markdown",
      "metadata": {},
      "source": [
        "## Predicting the Test set results"
      ]
    },
    {
      "cell_type": "code",
      "metadata": {},
      "source": [
        "y_pred = Linear_regressor.predict(X_test)\n",
        "\n",
        "np.set_printoptions(precision=None, suppress=None)\n",
        "pd.set_option('display.max_rows', None)\n",
        "pd.set_option('display.max_columns', None)\n",
        "pd.set_option('display.width', None)\n",
        "pd.set_option('display.max_colwidth', None)\n",
        "\n",
        "pd.DataFrame(data=[y_pred, y_test], index=['Predicted Price', 'Actual Price']).T\n",
        "\n",
        "#print(np.concatenate((y_pred.reshape(len(y_pred),1), y_test.reshape(len(y_test),1)), axis=1))\n",
        "# Predicted Price , Actual Price"
      ],
      "outputs": [],
      "execution_count": null
    },
    {
      "cell_type": "markdown",
      "metadata": {},
      "source": [
        "## Scatter Plot"
      ]
    },
    {
      "cell_type": "code",
      "metadata": {},
      "source": [
        "plt.scatter(y_test,y_pred)\n",
        "plt.xlabel(\"Prices\")\n",
        "plt.ylabel(\"Predicted prices\")\n",
        "plt.title(\"Prices vs Predicted prices\")\n",
        "plt.show()"
      ],
      "outputs": [],
      "execution_count": null
    },
    {
      "cell_type": "markdown",
      "metadata": {},
      "source": [
        "## Regression Interecept"
      ]
    },
    {
      "cell_type": "code",
      "metadata": {},
      "source": [
        "print('\\nIntercept: ', Linear_regressor.intercept_, '\\n')\n",
        "# print(np.concatenate((boston_dataset.feature_names.reshape(len(boston_dataset.feature_names),1), regressor.coef_.reshape(len(regressor.coef_),1)), axis=1))\n",
        "pd.DataFrame(data=Linear_regressor.coef_, index=df.feature_names, columns=['COEF_'])"
      ],
      "outputs": [],
      "execution_count": null
    },
    {
      "cell_type": "markdown",
      "metadata": {},
      "source": [
        "### Question : \n",
        "\n",
        "####What do a positive coefficient and a negative coefficient indicate respectively?"
      ]
    },
    {
      "cell_type": "markdown",
      "metadata": {},
      "source": [
        "## Ans :\n",
        "* A positive coefficient says that that as the value of the independent variable increases, the mean of the dependent variable is also likely to increase.\n",
        "\n",
        "* A negative coefficient says that as the independent variable increases, the dependent variable is also likely to  decrease."
      ]
    },
    {
      "cell_type": "markdown",
      "metadata": {},
      "source": [
        "## Evaluating Preformance of the Model"
      ]
    },
    {
      "cell_type": "code",
      "metadata": {},
      "source": [
        "from sklearn.metrics import r2_score, mean_squared_error, mean_absolute_error"
      ],
      "outputs": [],
      "execution_count": null
    },
    {
      "cell_type": "code",
      "metadata": {},
      "source": [
        "print('Training data r-squared: ', Linear_regressor.score(X_train, y_train))\n",
        "print('Test data r-squared    : ', Linear_regressor.score(X_test, y_test))"
      ],
      "outputs": [],
      "execution_count": null
    },
    {
      "cell_type": "code",
      "metadata": {},
      "source": [
        "print('Mean Squared Error: ', mean_squared_error(y_test, y_pred))\n",
        "print('Mean Absolute Error: ', mean_absolute_error(y_test, y_pred))"
      ],
      "outputs": [],
      "execution_count": null
    },
    {
      "cell_type": "markdown",
      "metadata": {},
      "source": [
        "## Question :\n",
        "### What do these metrics of R Squared, Mean Squared Error, and Mean Absolute Error? What are the numbers telling you?"
      ]
    },
    {
      "cell_type": "markdown",
      "metadata": {},
      "source": [
        "##Ans :\n",
        "\n",
        "### R-Squared Error :\n",
        "\n",
        "* It the measure of how close the data are to the fitted regression line.\n",
        "Here, an R-squared error of 67% for the test set result reveales that 67% of the data fits to the regression Model.\n",
        "\n",
        "### Mean Squared Error :\n",
        "\n",
        "* It tells how close a regression line is to a set of points. It does this by taking the distances from the points to the regression line (these distances are the \u201cerrors\u201d) and squaring them.The smaller the Mean squared error, means that the closer you are to finding the line of best fit.\n",
        "\n",
        "\n",
        "###Mean Absolute Error :\n",
        "* It is the mean of the absolute values of the difference between the predicted values and the actual values."
      ]
    },
    {
      "cell_type": "markdown",
      "metadata": {},
      "source": [
        "##BONUS Question"
      ]
    },
    {
      "cell_type": "code",
      "metadata": {},
      "source": [
        "from sklearn.preprocessing import PolynomialFeatures\n",
        "from sklearn import linear_model\n",
        "\n",
        "polynomial = PolynomialFeatures(degree=2)\n",
        "train_x_poly = polynomial.fit_transform(X_train)\n",
        "print(X_train.shape)\n",
        "print(train_x_poly.shape)\n",
        "train_x_poly"
      ],
      "outputs": [],
      "execution_count": null
    },
    {
      "cell_type": "code",
      "metadata": {},
      "source": [
        "Linear_regressor.fit(train_x_poly, y_train)"
      ],
      "outputs": [],
      "execution_count": null
    },
    {
      "cell_type": "code",
      "metadata": {},
      "source": [
        "from sklearn.metrics import r2_score\n",
        "\n",
        "test_x_poly = polynomial.fit_transform(X_test)\n",
        "test_y_ = Linear_regressor.predict(test_x_poly)\n",
        "y_pred_ = Linear_regressor.predict(train_x_poly)\n"
      ],
      "outputs": [],
      "execution_count": null
    },
    {
      "cell_type": "code",
      "metadata": {},
      "source": [
        "# accuracy = regressor.score(test_x_poly,test_y_)\n",
        "# print(\"Accuracy :\",accuracy*100,'%')"
      ],
      "outputs": [],
      "execution_count": null
    },
    {
      "cell_type": "code",
      "metadata": {},
      "source": [
        "from sklearn.metrics import r2_score\n",
        "print('Training data r-squared: ', r2_score(y_train, y_pred_))\n",
        "print('Test data r-squared    : ', r2_score(y_test, test_y_))\n"
      ],
      "outputs": [],
      "execution_count": null
    },
    {
      "cell_type": "code",
      "metadata": {},
      "source": [
        "print('Mean Squared Error: ', mean_squared_error(y_test, test_y_))\n",
        "print('Mean Absolute Error: ', mean_absolute_error(y_test,test_y_))"
      ],
      "outputs": [],
      "execution_count": null
    },
    {
      "cell_type": "markdown",
      "metadata": {},
      "source": [
        "##CONCLUSION :\n",
        "\n",
        "As we can see that in case of Polynomial Regression, we saw that the test error got decreased compared to our Linear Regression Model and Accuracy of Polynomial Regression got increased."
      ]
    },
    {
      "cell_type": "markdown",
      "metadata": {},
      "source": [
        "---\n",
        "\n",
        "---"
      ]
    },
    {
      "cell_type": "markdown",
      "metadata": {},
      "source": [
        "## This code is written by Anirudh Jakhotia"
      ]
    },
    {
      "cell_type": "markdown",
      "metadata": {},
      "source": [
        "---\n",
        "\n",
        "---"
      ]
    },
    {
      "cell_type": "code",
      "metadata": {},
      "source": [],
      "outputs": [],
      "execution_count": null
    }
  ],
  "metadata": {
    "anaconda-cloud": {},
    "kernelspec": {
      "display_name": "Python 3",
      "language": "python",
      "name": "python3"
    },
    "language_info": {
      "codemirror_mode": {
        "name": "ipython",
        "version": 3
      },
      "file_extension": ".py",
      "mimetype": "text/x-python",
      "name": "python",
      "nbconvert_exporter": "python",
      "pygments_lexer": "ipython3",
      "version": "3.6.1"
    }
  },
  "nbformat": 4,
  "nbformat_minor": 4
}