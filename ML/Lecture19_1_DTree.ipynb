{
  "nbformat": 4,
  "nbformat_minor": 0,
  "metadata": {
    "kernelspec": {
      "display_name": "Python 3",
      "language": "python",
      "name": "python3"
    },
    "language_info": {
      "codemirror_mode": {
        "name": "ipython",
        "version": 3
      },
      "file_extension": ".py",
      "mimetype": "text/x-python",
      "name": "python",
      "nbconvert_exporter": "python",
      "pygments_lexer": "ipython3",
      "version": "3.8.3"
    },
    "colab": {
      "name": "DTree.ipynb",
      "provenance": []
    }
  },
  "cells": [
    {
      "cell_type": "code",
      "metadata": {
        "id": "-cy3pCoCX5pC"
      },
      "source": [
        "#Working with Text Data and Naive Bayes in Scikit-Learn"
      ],
      "execution_count": null,
      "outputs": []
    },
    {
      "cell_type": "code",
      "metadata": {
        "id": "gMmT8UrrX5pT"
      },
      "source": [
        "%matplotlib inline\n",
        "import numpy as np\n",
        "import pandas as pd\n",
        "import matplotlib.pyplot as plt \n",
        "from sklearn.feature_extraction.text import CountVectorizer\n",
        "from sklearn.model_selection import train_test_split\n",
        "from sklearn.naive_bayes import MultinomialNB\n",
        "from sklearn.metrics import accuracy_score\n",
        "from sklearn import metrics\n",
        "import seaborn as sns; sns.set()"
      ],
      "execution_count": null,
      "outputs": []
    },
    {
      "cell_type": "code",
      "metadata": {
        "id": "F1fu_9R3X5pe"
      },
      "source": [
        "#Dtrees"
      ],
      "execution_count": null,
      "outputs": []
    },
    {
      "cell_type": "code",
      "metadata": {
        "id": "1j3LNoNDX5pe"
      },
      "source": [
        "from sklearn.datasets import load_boston\n",
        "boston = load_boston()"
      ],
      "execution_count": null,
      "outputs": []
    },
    {
      "cell_type": "code",
      "metadata": {
        "id": "elGP2nONX5pe"
      },
      "source": [
        "y = boston.target\n",
        "new_boston = pd.DataFrame(boston.data)"
      ],
      "execution_count": null,
      "outputs": []
    },
    {
      "cell_type": "code",
      "metadata": {
        "colab": {
          "base_uri": "https://localhost:8080/",
          "height": 452
        },
        "id": "VwtSdTLIX5pf",
        "outputId": "9c950329-c2dc-4b60-c58e-45b13cf3576c"
      },
      "source": [
        "#1 First, use boston.corr() to show what features are correlated with each other.\n",
        "new_boston.corr()"
      ],
      "execution_count": null,
      "outputs": [
        {
          "output_type": "execute_result",
          "data": {
            "text/html": [
              "<div>\n",
              "<style scoped>\n",
              "    .dataframe tbody tr th:only-of-type {\n",
              "        vertical-align: middle;\n",
              "    }\n",
              "\n",
              "    .dataframe tbody tr th {\n",
              "        vertical-align: top;\n",
              "    }\n",
              "\n",
              "    .dataframe thead th {\n",
              "        text-align: right;\n",
              "    }\n",
              "</style>\n",
              "<table border=\"1\" class=\"dataframe\">\n",
              "  <thead>\n",
              "    <tr style=\"text-align: right;\">\n",
              "      <th></th>\n",
              "      <th>0</th>\n",
              "      <th>1</th>\n",
              "      <th>2</th>\n",
              "      <th>3</th>\n",
              "      <th>4</th>\n",
              "      <th>5</th>\n",
              "      <th>6</th>\n",
              "      <th>7</th>\n",
              "      <th>8</th>\n",
              "      <th>9</th>\n",
              "      <th>10</th>\n",
              "      <th>11</th>\n",
              "      <th>12</th>\n",
              "    </tr>\n",
              "  </thead>\n",
              "  <tbody>\n",
              "    <tr>\n",
              "      <th>0</th>\n",
              "      <td>1.000000</td>\n",
              "      <td>-0.200469</td>\n",
              "      <td>0.406583</td>\n",
              "      <td>-0.055892</td>\n",
              "      <td>0.420972</td>\n",
              "      <td>-0.219247</td>\n",
              "      <td>0.352734</td>\n",
              "      <td>-0.379670</td>\n",
              "      <td>0.625505</td>\n",
              "      <td>0.582764</td>\n",
              "      <td>0.289946</td>\n",
              "      <td>-0.385064</td>\n",
              "      <td>0.455621</td>\n",
              "    </tr>\n",
              "    <tr>\n",
              "      <th>1</th>\n",
              "      <td>-0.200469</td>\n",
              "      <td>1.000000</td>\n",
              "      <td>-0.533828</td>\n",
              "      <td>-0.042697</td>\n",
              "      <td>-0.516604</td>\n",
              "      <td>0.311991</td>\n",
              "      <td>-0.569537</td>\n",
              "      <td>0.664408</td>\n",
              "      <td>-0.311948</td>\n",
              "      <td>-0.314563</td>\n",
              "      <td>-0.391679</td>\n",
              "      <td>0.175520</td>\n",
              "      <td>-0.412995</td>\n",
              "    </tr>\n",
              "    <tr>\n",
              "      <th>2</th>\n",
              "      <td>0.406583</td>\n",
              "      <td>-0.533828</td>\n",
              "      <td>1.000000</td>\n",
              "      <td>0.062938</td>\n",
              "      <td>0.763651</td>\n",
              "      <td>-0.391676</td>\n",
              "      <td>0.644779</td>\n",
              "      <td>-0.708027</td>\n",
              "      <td>0.595129</td>\n",
              "      <td>0.720760</td>\n",
              "      <td>0.383248</td>\n",
              "      <td>-0.356977</td>\n",
              "      <td>0.603800</td>\n",
              "    </tr>\n",
              "    <tr>\n",
              "      <th>3</th>\n",
              "      <td>-0.055892</td>\n",
              "      <td>-0.042697</td>\n",
              "      <td>0.062938</td>\n",
              "      <td>1.000000</td>\n",
              "      <td>0.091203</td>\n",
              "      <td>0.091251</td>\n",
              "      <td>0.086518</td>\n",
              "      <td>-0.099176</td>\n",
              "      <td>-0.007368</td>\n",
              "      <td>-0.035587</td>\n",
              "      <td>-0.121515</td>\n",
              "      <td>0.048788</td>\n",
              "      <td>-0.053929</td>\n",
              "    </tr>\n",
              "    <tr>\n",
              "      <th>4</th>\n",
              "      <td>0.420972</td>\n",
              "      <td>-0.516604</td>\n",
              "      <td>0.763651</td>\n",
              "      <td>0.091203</td>\n",
              "      <td>1.000000</td>\n",
              "      <td>-0.302188</td>\n",
              "      <td>0.731470</td>\n",
              "      <td>-0.769230</td>\n",
              "      <td>0.611441</td>\n",
              "      <td>0.668023</td>\n",
              "      <td>0.188933</td>\n",
              "      <td>-0.380051</td>\n",
              "      <td>0.590879</td>\n",
              "    </tr>\n",
              "    <tr>\n",
              "      <th>5</th>\n",
              "      <td>-0.219247</td>\n",
              "      <td>0.311991</td>\n",
              "      <td>-0.391676</td>\n",
              "      <td>0.091251</td>\n",
              "      <td>-0.302188</td>\n",
              "      <td>1.000000</td>\n",
              "      <td>-0.240265</td>\n",
              "      <td>0.205246</td>\n",
              "      <td>-0.209847</td>\n",
              "      <td>-0.292048</td>\n",
              "      <td>-0.355501</td>\n",
              "      <td>0.128069</td>\n",
              "      <td>-0.613808</td>\n",
              "    </tr>\n",
              "    <tr>\n",
              "      <th>6</th>\n",
              "      <td>0.352734</td>\n",
              "      <td>-0.569537</td>\n",
              "      <td>0.644779</td>\n",
              "      <td>0.086518</td>\n",
              "      <td>0.731470</td>\n",
              "      <td>-0.240265</td>\n",
              "      <td>1.000000</td>\n",
              "      <td>-0.747881</td>\n",
              "      <td>0.456022</td>\n",
              "      <td>0.506456</td>\n",
              "      <td>0.261515</td>\n",
              "      <td>-0.273534</td>\n",
              "      <td>0.602339</td>\n",
              "    </tr>\n",
              "    <tr>\n",
              "      <th>7</th>\n",
              "      <td>-0.379670</td>\n",
              "      <td>0.664408</td>\n",
              "      <td>-0.708027</td>\n",
              "      <td>-0.099176</td>\n",
              "      <td>-0.769230</td>\n",
              "      <td>0.205246</td>\n",
              "      <td>-0.747881</td>\n",
              "      <td>1.000000</td>\n",
              "      <td>-0.494588</td>\n",
              "      <td>-0.534432</td>\n",
              "      <td>-0.232471</td>\n",
              "      <td>0.291512</td>\n",
              "      <td>-0.496996</td>\n",
              "    </tr>\n",
              "    <tr>\n",
              "      <th>8</th>\n",
              "      <td>0.625505</td>\n",
              "      <td>-0.311948</td>\n",
              "      <td>0.595129</td>\n",
              "      <td>-0.007368</td>\n",
              "      <td>0.611441</td>\n",
              "      <td>-0.209847</td>\n",
              "      <td>0.456022</td>\n",
              "      <td>-0.494588</td>\n",
              "      <td>1.000000</td>\n",
              "      <td>0.910228</td>\n",
              "      <td>0.464741</td>\n",
              "      <td>-0.444413</td>\n",
              "      <td>0.488676</td>\n",
              "    </tr>\n",
              "    <tr>\n",
              "      <th>9</th>\n",
              "      <td>0.582764</td>\n",
              "      <td>-0.314563</td>\n",
              "      <td>0.720760</td>\n",
              "      <td>-0.035587</td>\n",
              "      <td>0.668023</td>\n",
              "      <td>-0.292048</td>\n",
              "      <td>0.506456</td>\n",
              "      <td>-0.534432</td>\n",
              "      <td>0.910228</td>\n",
              "      <td>1.000000</td>\n",
              "      <td>0.460853</td>\n",
              "      <td>-0.441808</td>\n",
              "      <td>0.543993</td>\n",
              "    </tr>\n",
              "    <tr>\n",
              "      <th>10</th>\n",
              "      <td>0.289946</td>\n",
              "      <td>-0.391679</td>\n",
              "      <td>0.383248</td>\n",
              "      <td>-0.121515</td>\n",
              "      <td>0.188933</td>\n",
              "      <td>-0.355501</td>\n",
              "      <td>0.261515</td>\n",
              "      <td>-0.232471</td>\n",
              "      <td>0.464741</td>\n",
              "      <td>0.460853</td>\n",
              "      <td>1.000000</td>\n",
              "      <td>-0.177383</td>\n",
              "      <td>0.374044</td>\n",
              "    </tr>\n",
              "    <tr>\n",
              "      <th>11</th>\n",
              "      <td>-0.385064</td>\n",
              "      <td>0.175520</td>\n",
              "      <td>-0.356977</td>\n",
              "      <td>0.048788</td>\n",
              "      <td>-0.380051</td>\n",
              "      <td>0.128069</td>\n",
              "      <td>-0.273534</td>\n",
              "      <td>0.291512</td>\n",
              "      <td>-0.444413</td>\n",
              "      <td>-0.441808</td>\n",
              "      <td>-0.177383</td>\n",
              "      <td>1.000000</td>\n",
              "      <td>-0.366087</td>\n",
              "    </tr>\n",
              "    <tr>\n",
              "      <th>12</th>\n",
              "      <td>0.455621</td>\n",
              "      <td>-0.412995</td>\n",
              "      <td>0.603800</td>\n",
              "      <td>-0.053929</td>\n",
              "      <td>0.590879</td>\n",
              "      <td>-0.613808</td>\n",
              "      <td>0.602339</td>\n",
              "      <td>-0.496996</td>\n",
              "      <td>0.488676</td>\n",
              "      <td>0.543993</td>\n",
              "      <td>0.374044</td>\n",
              "      <td>-0.366087</td>\n",
              "      <td>1.000000</td>\n",
              "    </tr>\n",
              "  </tbody>\n",
              "</table>\n",
              "</div>"
            ],
            "text/plain": [
              "          0         1         2   ...        10        11        12\n",
              "0   1.000000 -0.200469  0.406583  ...  0.289946 -0.385064  0.455621\n",
              "1  -0.200469  1.000000 -0.533828  ... -0.391679  0.175520 -0.412995\n",
              "2   0.406583 -0.533828  1.000000  ...  0.383248 -0.356977  0.603800\n",
              "3  -0.055892 -0.042697  0.062938  ... -0.121515  0.048788 -0.053929\n",
              "4   0.420972 -0.516604  0.763651  ...  0.188933 -0.380051  0.590879\n",
              "5  -0.219247  0.311991 -0.391676  ... -0.355501  0.128069 -0.613808\n",
              "6   0.352734 -0.569537  0.644779  ...  0.261515 -0.273534  0.602339\n",
              "7  -0.379670  0.664408 -0.708027  ... -0.232471  0.291512 -0.496996\n",
              "8   0.625505 -0.311948  0.595129  ...  0.464741 -0.444413  0.488676\n",
              "9   0.582764 -0.314563  0.720760  ...  0.460853 -0.441808  0.543993\n",
              "10  0.289946 -0.391679  0.383248  ...  1.000000 -0.177383  0.374044\n",
              "11 -0.385064  0.175520 -0.356977  ... -0.177383  1.000000 -0.366087\n",
              "12  0.455621 -0.412995  0.603800  ...  0.374044 -0.366087  1.000000\n",
              "\n",
              "[13 rows x 13 columns]"
            ]
          },
          "metadata": {
            "tags": []
          },
          "execution_count": 5
        }
      ]
    },
    {
      "cell_type": "code",
      "metadata": {
        "colab": {
          "base_uri": "https://localhost:8080/",
          "height": 452
        },
        "id": "0Pdew7m_X5pf",
        "outputId": "3089c20b-5e29-473c-861e-e5e5312aefff"
      },
      "source": [
        "#2 The columns don't have any labels. This happens with some datasets. According to the column values shown \n",
        "# in https://www.kaggle.com/c/boston-housing, you need to label the columns. Note: only label 13 columns \n",
        "# (the website has 14 labels for the columns), remove the last one of 'medv'. And use boston.corr() again.\n",
        "# medv already removed\n",
        "new_boston.columns = boston.feature_names\n",
        "new_boston.corr()"
      ],
      "execution_count": null,
      "outputs": [
        {
          "output_type": "execute_result",
          "data": {
            "text/html": [
              "<div>\n",
              "<style scoped>\n",
              "    .dataframe tbody tr th:only-of-type {\n",
              "        vertical-align: middle;\n",
              "    }\n",
              "\n",
              "    .dataframe tbody tr th {\n",
              "        vertical-align: top;\n",
              "    }\n",
              "\n",
              "    .dataframe thead th {\n",
              "        text-align: right;\n",
              "    }\n",
              "</style>\n",
              "<table border=\"1\" class=\"dataframe\">\n",
              "  <thead>\n",
              "    <tr style=\"text-align: right;\">\n",
              "      <th></th>\n",
              "      <th>CRIM</th>\n",
              "      <th>ZN</th>\n",
              "      <th>INDUS</th>\n",
              "      <th>CHAS</th>\n",
              "      <th>NOX</th>\n",
              "      <th>RM</th>\n",
              "      <th>AGE</th>\n",
              "      <th>DIS</th>\n",
              "      <th>RAD</th>\n",
              "      <th>TAX</th>\n",
              "      <th>PTRATIO</th>\n",
              "      <th>B</th>\n",
              "      <th>LSTAT</th>\n",
              "    </tr>\n",
              "  </thead>\n",
              "  <tbody>\n",
              "    <tr>\n",
              "      <th>CRIM</th>\n",
              "      <td>1.000000</td>\n",
              "      <td>-0.200469</td>\n",
              "      <td>0.406583</td>\n",
              "      <td>-0.055892</td>\n",
              "      <td>0.420972</td>\n",
              "      <td>-0.219247</td>\n",
              "      <td>0.352734</td>\n",
              "      <td>-0.379670</td>\n",
              "      <td>0.625505</td>\n",
              "      <td>0.582764</td>\n",
              "      <td>0.289946</td>\n",
              "      <td>-0.385064</td>\n",
              "      <td>0.455621</td>\n",
              "    </tr>\n",
              "    <tr>\n",
              "      <th>ZN</th>\n",
              "      <td>-0.200469</td>\n",
              "      <td>1.000000</td>\n",
              "      <td>-0.533828</td>\n",
              "      <td>-0.042697</td>\n",
              "      <td>-0.516604</td>\n",
              "      <td>0.311991</td>\n",
              "      <td>-0.569537</td>\n",
              "      <td>0.664408</td>\n",
              "      <td>-0.311948</td>\n",
              "      <td>-0.314563</td>\n",
              "      <td>-0.391679</td>\n",
              "      <td>0.175520</td>\n",
              "      <td>-0.412995</td>\n",
              "    </tr>\n",
              "    <tr>\n",
              "      <th>INDUS</th>\n",
              "      <td>0.406583</td>\n",
              "      <td>-0.533828</td>\n",
              "      <td>1.000000</td>\n",
              "      <td>0.062938</td>\n",
              "      <td>0.763651</td>\n",
              "      <td>-0.391676</td>\n",
              "      <td>0.644779</td>\n",
              "      <td>-0.708027</td>\n",
              "      <td>0.595129</td>\n",
              "      <td>0.720760</td>\n",
              "      <td>0.383248</td>\n",
              "      <td>-0.356977</td>\n",
              "      <td>0.603800</td>\n",
              "    </tr>\n",
              "    <tr>\n",
              "      <th>CHAS</th>\n",
              "      <td>-0.055892</td>\n",
              "      <td>-0.042697</td>\n",
              "      <td>0.062938</td>\n",
              "      <td>1.000000</td>\n",
              "      <td>0.091203</td>\n",
              "      <td>0.091251</td>\n",
              "      <td>0.086518</td>\n",
              "      <td>-0.099176</td>\n",
              "      <td>-0.007368</td>\n",
              "      <td>-0.035587</td>\n",
              "      <td>-0.121515</td>\n",
              "      <td>0.048788</td>\n",
              "      <td>-0.053929</td>\n",
              "    </tr>\n",
              "    <tr>\n",
              "      <th>NOX</th>\n",
              "      <td>0.420972</td>\n",
              "      <td>-0.516604</td>\n",
              "      <td>0.763651</td>\n",
              "      <td>0.091203</td>\n",
              "      <td>1.000000</td>\n",
              "      <td>-0.302188</td>\n",
              "      <td>0.731470</td>\n",
              "      <td>-0.769230</td>\n",
              "      <td>0.611441</td>\n",
              "      <td>0.668023</td>\n",
              "      <td>0.188933</td>\n",
              "      <td>-0.380051</td>\n",
              "      <td>0.590879</td>\n",
              "    </tr>\n",
              "    <tr>\n",
              "      <th>RM</th>\n",
              "      <td>-0.219247</td>\n",
              "      <td>0.311991</td>\n",
              "      <td>-0.391676</td>\n",
              "      <td>0.091251</td>\n",
              "      <td>-0.302188</td>\n",
              "      <td>1.000000</td>\n",
              "      <td>-0.240265</td>\n",
              "      <td>0.205246</td>\n",
              "      <td>-0.209847</td>\n",
              "      <td>-0.292048</td>\n",
              "      <td>-0.355501</td>\n",
              "      <td>0.128069</td>\n",
              "      <td>-0.613808</td>\n",
              "    </tr>\n",
              "    <tr>\n",
              "      <th>AGE</th>\n",
              "      <td>0.352734</td>\n",
              "      <td>-0.569537</td>\n",
              "      <td>0.644779</td>\n",
              "      <td>0.086518</td>\n",
              "      <td>0.731470</td>\n",
              "      <td>-0.240265</td>\n",
              "      <td>1.000000</td>\n",
              "      <td>-0.747881</td>\n",
              "      <td>0.456022</td>\n",
              "      <td>0.506456</td>\n",
              "      <td>0.261515</td>\n",
              "      <td>-0.273534</td>\n",
              "      <td>0.602339</td>\n",
              "    </tr>\n",
              "    <tr>\n",
              "      <th>DIS</th>\n",
              "      <td>-0.379670</td>\n",
              "      <td>0.664408</td>\n",
              "      <td>-0.708027</td>\n",
              "      <td>-0.099176</td>\n",
              "      <td>-0.769230</td>\n",
              "      <td>0.205246</td>\n",
              "      <td>-0.747881</td>\n",
              "      <td>1.000000</td>\n",
              "      <td>-0.494588</td>\n",
              "      <td>-0.534432</td>\n",
              "      <td>-0.232471</td>\n",
              "      <td>0.291512</td>\n",
              "      <td>-0.496996</td>\n",
              "    </tr>\n",
              "    <tr>\n",
              "      <th>RAD</th>\n",
              "      <td>0.625505</td>\n",
              "      <td>-0.311948</td>\n",
              "      <td>0.595129</td>\n",
              "      <td>-0.007368</td>\n",
              "      <td>0.611441</td>\n",
              "      <td>-0.209847</td>\n",
              "      <td>0.456022</td>\n",
              "      <td>-0.494588</td>\n",
              "      <td>1.000000</td>\n",
              "      <td>0.910228</td>\n",
              "      <td>0.464741</td>\n",
              "      <td>-0.444413</td>\n",
              "      <td>0.488676</td>\n",
              "    </tr>\n",
              "    <tr>\n",
              "      <th>TAX</th>\n",
              "      <td>0.582764</td>\n",
              "      <td>-0.314563</td>\n",
              "      <td>0.720760</td>\n",
              "      <td>-0.035587</td>\n",
              "      <td>0.668023</td>\n",
              "      <td>-0.292048</td>\n",
              "      <td>0.506456</td>\n",
              "      <td>-0.534432</td>\n",
              "      <td>0.910228</td>\n",
              "      <td>1.000000</td>\n",
              "      <td>0.460853</td>\n",
              "      <td>-0.441808</td>\n",
              "      <td>0.543993</td>\n",
              "    </tr>\n",
              "    <tr>\n",
              "      <th>PTRATIO</th>\n",
              "      <td>0.289946</td>\n",
              "      <td>-0.391679</td>\n",
              "      <td>0.383248</td>\n",
              "      <td>-0.121515</td>\n",
              "      <td>0.188933</td>\n",
              "      <td>-0.355501</td>\n",
              "      <td>0.261515</td>\n",
              "      <td>-0.232471</td>\n",
              "      <td>0.464741</td>\n",
              "      <td>0.460853</td>\n",
              "      <td>1.000000</td>\n",
              "      <td>-0.177383</td>\n",
              "      <td>0.374044</td>\n",
              "    </tr>\n",
              "    <tr>\n",
              "      <th>B</th>\n",
              "      <td>-0.385064</td>\n",
              "      <td>0.175520</td>\n",
              "      <td>-0.356977</td>\n",
              "      <td>0.048788</td>\n",
              "      <td>-0.380051</td>\n",
              "      <td>0.128069</td>\n",
              "      <td>-0.273534</td>\n",
              "      <td>0.291512</td>\n",
              "      <td>-0.444413</td>\n",
              "      <td>-0.441808</td>\n",
              "      <td>-0.177383</td>\n",
              "      <td>1.000000</td>\n",
              "      <td>-0.366087</td>\n",
              "    </tr>\n",
              "    <tr>\n",
              "      <th>LSTAT</th>\n",
              "      <td>0.455621</td>\n",
              "      <td>-0.412995</td>\n",
              "      <td>0.603800</td>\n",
              "      <td>-0.053929</td>\n",
              "      <td>0.590879</td>\n",
              "      <td>-0.613808</td>\n",
              "      <td>0.602339</td>\n",
              "      <td>-0.496996</td>\n",
              "      <td>0.488676</td>\n",
              "      <td>0.543993</td>\n",
              "      <td>0.374044</td>\n",
              "      <td>-0.366087</td>\n",
              "      <td>1.000000</td>\n",
              "    </tr>\n",
              "  </tbody>\n",
              "</table>\n",
              "</div>"
            ],
            "text/plain": [
              "             CRIM        ZN     INDUS  ...   PTRATIO         B     LSTAT\n",
              "CRIM     1.000000 -0.200469  0.406583  ...  0.289946 -0.385064  0.455621\n",
              "ZN      -0.200469  1.000000 -0.533828  ... -0.391679  0.175520 -0.412995\n",
              "INDUS    0.406583 -0.533828  1.000000  ...  0.383248 -0.356977  0.603800\n",
              "CHAS    -0.055892 -0.042697  0.062938  ... -0.121515  0.048788 -0.053929\n",
              "NOX      0.420972 -0.516604  0.763651  ...  0.188933 -0.380051  0.590879\n",
              "RM      -0.219247  0.311991 -0.391676  ... -0.355501  0.128069 -0.613808\n",
              "AGE      0.352734 -0.569537  0.644779  ...  0.261515 -0.273534  0.602339\n",
              "DIS     -0.379670  0.664408 -0.708027  ... -0.232471  0.291512 -0.496996\n",
              "RAD      0.625505 -0.311948  0.595129  ...  0.464741 -0.444413  0.488676\n",
              "TAX      0.582764 -0.314563  0.720760  ...  0.460853 -0.441808  0.543993\n",
              "PTRATIO  0.289946 -0.391679  0.383248  ...  1.000000 -0.177383  0.374044\n",
              "B       -0.385064  0.175520 -0.356977  ... -0.177383  1.000000 -0.366087\n",
              "LSTAT    0.455621 -0.412995  0.603800  ...  0.374044 -0.366087  1.000000\n",
              "\n",
              "[13 rows x 13 columns]"
            ]
          },
          "metadata": {
            "tags": []
          },
          "execution_count": 6
        }
      ]
    },
    {
      "cell_type": "code",
      "metadata": {
        "colab": {
          "base_uri": "https://localhost:8080/",
          "height": 304
        },
        "id": "3G3GI9TBX5pf",
        "outputId": "c13cee6f-c0f5-497f-c164-bf896b93f388"
      },
      "source": [
        "#3 Now, you have the numbers from the correlation matrix, but it's not as easy to view or interpret as a plot. Please plot correlations by color according to the following figure and giving the labels of x and y:\n",
        "x = new_boston.corr()\n",
        "y = np.triu(x)\n",
        "sns.heatmap(x, mask = y, cmap = \"jet\")\n",
        "plt.rcParams[\"figure.figsize\"] = 10,10\n",
        "plt.show()"
      ],
      "execution_count": null,
      "outputs": [
        {
          "output_type": "display_data",
          "data": {
            "image/png": "[encoded data removed]",
            "text/plain": [
              "<Figure size 432x288 with 2 Axes>"
            ]
          },
          "metadata": {
            "tags": [],
            "needs_background": "light"
          }
        }
      ]
    },
    {
      "cell_type": "code",
      "metadata": {
        "colab": {
          "base_uri": "https://localhost:8080/",
          "height": 615
        },
        "id": "tLGWKj7gX5pg",
        "outputId": "6d869d52-e75d-4d2f-89e5-a27c8f665db4"
      },
      "source": [
        "#4 In the above plot, what features are highly correlated? Which features are highly uncorrelated?\n",
        "plt.figure(figsize=(20,10))\n",
        "sns.heatmap(new_boston.corr().abs(), annot=True)"
      ],
      "execution_count": null,
      "outputs": [
        {
          "output_type": "execute_result",
          "data": {
            "text/plain": [
              "<matplotlib.axes._subplots.AxesSubplot at 0x7ff47ce05710>"
            ]
          },
          "metadata": {
            "tags": []
          },
          "execution_count": 8
        },
        {
          "output_type": "display_data",
          "data": {
            "image/png": "[encoded data removed]",
            "text/plain": [
              "<Figure size 1440x720 with 2 Axes>"
            ]
          },
          "metadata": {
            "tags": [],
            "needs_background": "light"
          }
        }
      ]
    },
    {
      "cell_type": "code",
      "metadata": {
        "colab": {
          "base_uri": "https://localhost:8080/"
        },
        "id": "Nzk14A5eX5pg",
        "outputId": "1e1c57d2-02ea-40bf-c389-98e1e7e6f8cb"
      },
      "source": [
        "#5 First, please split the data into two datasets as “training” dataset and “test” dataset by train_test_split(). According to the four steps taught in the classes, please train the model by linear regression.\n",
        "from sklearn.tree import DecisionTreeRegressor\n",
        "from matplotlib import pyplot as plt\n",
        "y = pd.DataFrame(boston.target)\n",
        "\n",
        "boston_X_train, boston_X_test, boston_y_train, boston_y_test = train_test_split(new_boston, y , test_size = 0.3, random_state = 3)\n",
        "\n",
        "regr = DecisionTreeRegressor()\n",
        "\n",
        "regr.fit(boston_X_train, boston_y_train)\n",
        "\n",
        "print(boston_X_train.shape)\n",
        "print(boston_X_test.shape)\n",
        "print(boston_y_train.shape)\n",
        "print(boston_y_test.shape)\n"
      ],
      "execution_count": null,
      "outputs": [
        {
          "output_type": "stream",
          "text": [
            "(354, 13)\n",
            "(152, 13)\n",
            "(354, 1)\n",
            "(152, 1)\n"
          ],
          "name": "stdout"
        }
      ]
    },
    {
      "cell_type": "code",
      "metadata": {
        "colab": {
          "base_uri": "https://localhost:8080/"
        },
        "id": "uKL2pQQcX5ph",
        "outputId": "66cd9bcd-ee75-46b2-fdd9-b4d3bae89d6b"
      },
      "source": [
        "# Predict and Score Model\n",
        "#6. Then, please predict new values using the test set.\n",
        "boston_y_pred = regr.predict(boston_X_test)\n",
        "print(boston_y_pred.shape)\n",
        "print(\"Predition: \", boston_y_pred)\n",
        "print(\"Train Accuracy: \" , regr.score(boston_X_train,boston_y_train))\n",
        "print(\"Test Accuracy: \" , regr.score(boston_X_test,boston_y_test))"
      ],
      "execution_count": null,
      "outputs": [
        {
          "output_type": "stream",
          "text": [
            "(152,)\n",
            "Predition:  [39.8 17.7 13.4 31.1 20.9 20.3 14.5  7.5 20.6 22.5  8.1 22.  34.6 31.\n",
            "  5.  17.8 23.1 15.1 14.5 22.  22.  42.3 24.8 24.1  8.5 25.  27.1 20.2\n",
            " 21.  24.  19.1 36.1 10.2 21.  13.6 13.1 25.  36.1 18.6 24.8 16.8 10.5\n",
            " 27.1 19.  19.6 28.7 22.5 22.5 30.1 19.6 25.  19.2 50.  20.4 19.4 15.\n",
            " 50.  13.1 31.1 19.6 18.3 23.  28.2 30.5 22.6 21.2 33.4 22.6 28.5 25.\n",
            " 25.  27.5 17.  30.5  9.6 17.8 17.4 27.  22.  14.2 26.6 16.7 13.8 20.4\n",
            " 21.4 12.3 25.   8.5 20.9 25.  21.  24.5 26.4 46.7 23.6 14.9 48.5 10.2\n",
            " 22.9 33.2 19.2 19.8 14.1 19.6 29.  13.8 20.1 16.5 23.1 35.2 16.3  8.3\n",
            " 15.4 25.  24.8 16.2 33.2 30.5 24.4 31.1 15.  10.5 13.1 24.3 22.5 27.1\n",
            " 16.6 32.2 19.  21.2 22.  46.7  9.5 29.9 20.2 14.5 20.1  7.5 21.  24.8\n",
            " 13.3 22.2 31.5 21.2 17.2 50.  14.1 21.2 19.4 10.2  8.1 23.5]\n",
            "Train Accuracy:  1.0\n",
            "Test Accuracy:  0.6921330103995491\n"
          ],
          "name": "stdout"
        }
      ]
    },
    {
      "cell_type": "code",
      "metadata": {
        "id": "zQZ1U1SKX5pi",
        "colab": {
          "base_uri": "https://localhost:8080/"
        },
        "outputId": "7b600567-ff5e-4ba9-f47e-a5f2160b5b73"
      },
      "source": [
        "#8\n",
        "from sklearn.metrics import mean_squared_error, r2_score, mean_absolute_error\n",
        "print('Mean squared error: %.2f' % mean_squared_error(boston_y_test, boston_y_pred))\n",
        "print('Mean absolute error: %.2f' % mean_absolute_error(boston_y_test, boston_y_pred))\n",
        "print('R Squared: %.2f' % r2_score(boston_y_test, boston_y_pred))"
      ],
      "execution_count": null,
      "outputs": [
        {
          "output_type": "stream",
          "text": [
            "Mean squared error: 24.21\n",
            "Mean absolute error: 3.39\n",
            "R Squared: 0.69\n"
          ],
          "name": "stdout"
        }
      ]
    },
    {
      "cell_type": "code",
      "metadata": {
        "colab": {
          "base_uri": "https://localhost:8080/"
        },
        "id": "U9ZRW-FHduHk",
        "outputId": "69cf9335-f63b-4be1-9076-fa44df3f1c2f"
      },
      "source": [
        "from sklearn.ensemble import RandomForestRegressor\n",
        "from sklearn.datasets import make_regression\n",
        "from sklearn.ensemble import RandomForestRegressor\n",
        "regressor = RandomForestRegressor(n_estimators = 13, random_state = 0)\n",
        "regressor.fit(boston_X_train, boston_y_train)\n"
      ],
      "execution_count": null,
      "outputs": [
        {
          "output_type": "stream",
          "text": [
            "/usr/local/lib/python3.7/dist-packages/ipykernel_launcher.py:5: DataConversionWarning: A column-vector y was passed when a 1d array was expected. Please change the shape of y to (n_samples,), for example using ravel().\n",
            "  \"\"\"\n"
          ],
          "name": "stderr"
        },
        {
          "output_type": "execute_result",
          "data": {
            "text/plain": [
              "RandomForestRegressor(bootstrap=True, ccp_alpha=0.0, criterion='mse',\n",
              "                      max_depth=None, max_features='auto', max_leaf_nodes=None,\n",
              "                      max_samples=None, min_impurity_decrease=0.0,\n",
              "                      min_impurity_split=None, min_samples_leaf=1,\n",
              "                      min_samples_split=2, min_weight_fraction_leaf=0.0,\n",
              "                      n_estimators=13, n_jobs=None, oob_score=False,\n",
              "                      random_state=0, verbose=0, warm_start=False)"
            ]
          },
          "metadata": {
            "tags": []
          },
          "execution_count": 22
        }
      ]
    },
    {
      "cell_type": "code",
      "metadata": {
        "colab": {
          "base_uri": "https://localhost:8080/"
        },
        "id": "TlPZBAm-d5g7",
        "outputId": "5a0a05e9-5325-4b34-b334-174dc150fc9c"
      },
      "source": [
        "boston_y_pred = regressor.predict(boston_X_test)\n",
        "print(boston_y_pred.shape)\n",
        "print(\"Predition: \", boston_y_pred)\n",
        "print(\"Train Accuracy: \" , regressor.score(boston_X_train,boston_y_train))\n",
        "print(\"Test Accuracy: \" , regressor.score(boston_X_test,boston_y_test))"
      ],
      "execution_count": null,
      "outputs": [
        {
          "output_type": "stream",
          "text": [
            "(152,)\n",
            "Predition:  [41.66923077 15.9        23.72307692 31.11538462 21.01538462 21.5\n",
            " 14.30769231  6.99230769 20.93076923 17.6        13.43846154 28.55384615\n",
            " 33.65384615 28.28461538  6.28461538 10.63076923 21.06923077 13.82307692\n",
            " 14.35384615 21.69230769 32.26153846 43.46153846 23.15384615 24.00769231\n",
            " 11.99230769 24.62307692 19.30769231 20.39230769 20.45384615 20.91538462\n",
            " 14.59230769 34.90769231 19.24615385 21.58461538 16.23846154 11.83846154\n",
            " 23.63846154 33.13076923 18.87692308 23.07692308 15.73076923  9.76153846\n",
            " 21.73076923 16.70769231 20.93076923 26.84615385 22.         18.69230769\n",
            " 27.26153846 20.91538462 27.90769231 21.36923077 47.68461538 20.22307692\n",
            " 20.60769231 17.73076923 49.63076923 13.56923077 28.87692308 20.92307692\n",
            " 19.89230769 22.31538462 31.59230769 30.77692308 20.75384615 21.69230769\n",
            " 33.00769231 21.77692308 27.         23.93846154 24.04615385 26.29230769\n",
            " 15.30769231 28.56153846 10.91538462 19.09230769 19.90769231 25.32307692\n",
            " 25.24615385 14.58461538 26.45384615 14.42307692 13.71538462 20.67692308\n",
            " 24.52307692 12.50769231 24.89230769 11.05384615 21.43076923 22.66153846\n",
            " 20.19230769 20.54615385 20.55384615 43.56923077 27.91538462 15.04615385\n",
            " 48.23846154 15.45384615 22.67692308 34.08461538 22.37692308 19.48461538\n",
            " 14.11538462 20.66923077 31.53846154 16.18461538 20.71538462 18.34615385\n",
            " 21.24615385 39.69230769 16.36153846 11.12307692 14.25384615 23.61538462\n",
            " 22.57692308 19.45384615 31.86923077 30.13076923 19.57692308 27.70769231\n",
            " 28.41538462  8.31538462 12.96923077 21.         20.10769231 19.6\n",
            " 21.         33.80769231 16.82307692 21.45384615 23.60769231 39.86153846\n",
            " 14.32307692 32.36153846 20.64615385 16.23846154 21.67692308  9.29230769\n",
            " 19.62307692 27.68461538 13.96153846 23.48461538 25.48461538 21.12307692\n",
            " 14.11538462 48.31538462 13.76923077 25.68461538 15.07692308 19.2\n",
            " 14.12307692 24.77692308]\n",
            "Train Accuracy:  0.979610134624807\n",
            "Test Accuracy:  0.8269372737535869\n"
          ],
          "name": "stdout"
        }
      ]
    },
    {
      "cell_type": "code",
      "metadata": {
        "id": "F9vN3p2ZX5pk",
        "colab": {
          "base_uri": "https://localhost:8080/"
        },
        "outputId": "2042452b-4a0f-4acf-d25a-8497403959a0"
      },
      "source": [
        "#8-2\n",
        "new_boston_mod = new_boston.drop(columns=['CHAS'])\n",
        "boston_X_train1, boston_X_test1, boston_y_train1, boston_y_test1 = train_test_split(new_boston_mod, y ,test_size = 0.1, random_state= 3)\n",
        "regr1 = DecisionTreeRegressor()\n",
        "model = regr1.fit(boston_X_train1,boston_y_train1)\n",
        "boston_y_pred1 = model.predict(boston_X_test1)\n",
        "\n",
        "print(\"Train accuracy:\", regr1.score(boston_X_train1,boston_y_train1))\n",
        "print(\"Test accuracy:\", regr1.score(boston_X_test1,boston_y_test1))\n",
        "print('Mean squared error: %.2f'% mean_squared_error(boston_y_test1, boston_y_pred1))\n",
        "print('Mean absolute error: %.2f'% mean_absolute_error(boston_y_test1, boston_y_pred1))\n",
        "print('R squared: %.2f'% r2_score(boston_y_test1, boston_y_pred1))"
      ],
      "execution_count": null,
      "outputs": [
        {
          "output_type": "stream",
          "text": [
            "Train accuracy: 1.0\n",
            "Test accuracy: 0.7587587645370093\n",
            "Mean squared error: 17.35\n",
            "Mean absolute error: 2.76\n",
            "R squared: 0.76\n"
          ],
          "name": "stdout"
        }
      ]
    },
    {
      "cell_type": "markdown",
      "metadata": {
        "id": "GdHT5PO5X5pl"
      },
      "source": [
        ""
      ]
    },
    {
      "cell_type": "code",
      "metadata": {
        "colab": {
          "base_uri": "https://localhost:8080/"
        },
        "id": "vxFYhxO-2uf6",
        "outputId": "27e2dd56-a13c-413f-bf13-860618fcee39"
      },
      "source": [
        "#8-2\n",
        "from sklearn.linear_model import Ridge\n",
        "new_boston_mod = new_boston.drop(columns=['CHAS'])\n",
        "boston_X_train1, boston_X_test1, boston_y_train1, boston_y_test1 = train_test_split(new_boston_mod, y ,test_size = 0.1, random_state= 3)\n",
        "regr1 = RandomForestRegressor()\n",
        "model = regr1.fit(boston_X_train1,boston_y_train1)\n",
        "boston_y_pred1 = model.predict(boston_X_test1)\n",
        "\n",
        "print(\"Train accuracy:\", regr1.score(boston_X_train1,boston_y_train1))\n",
        "print(\"Test accuracy:\", regr1.score(boston_X_test1,boston_y_test1))\n",
        "print('Mean squared error: %.2f'% mean_squared_error(boston_y_test1, boston_y_pred1))\n",
        "print('Mean absolute error: %.2f'% mean_absolute_error(boston_y_test1, boston_y_pred1))\n",
        "print('R squared: %.2f'% r2_score(boston_y_test1, boston_y_pred1))"
      ],
      "execution_count": null,
      "outputs": [
        {
          "output_type": "stream",
          "text": [
            "/usr/local/lib/python3.7/dist-packages/ipykernel_launcher.py:6: DataConversionWarning: A column-vector y was passed when a 1d array was expected. Please change the shape of y to (n_samples,), for example using ravel().\n",
            "  \n"
          ],
          "name": "stderr"
        },
        {
          "output_type": "stream",
          "text": [
            "Train accuracy: 0.980161915139367\n",
            "Test accuracy: 0.9117730547409957\n",
            "Mean squared error: 6.35\n",
            "Mean absolute error: 1.78\n",
            "R squared: 0.91\n"
          ],
          "name": "stdout"
        }
      ]
    },
    {
      "cell_type": "code",
      "metadata": {
        "id": "DpPhJav82wh9"
      },
      "source": [
        ""
      ],
      "execution_count": null,
      "outputs": []
    }
  ]
}